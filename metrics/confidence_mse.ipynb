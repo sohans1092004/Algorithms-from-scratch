{
 "cells": [
  {
   "cell_type": "code",
   "execution_count": 7,
   "id": "c06eba53-0034-489c-b345-c28e532ed91b",
   "metadata": {},
   "outputs": [],
   "source": [
    "import numpy as np\n",
    "from scipy import stats\n",
    "\n",
    "def confidence_mse(y_true, y_pred, confidence=0.95):\n",
    "    squared_errors = (y_true - y_pred) ** 2\n",
    "    mse = np.mean(squared_errors)\n",
    "    se = stats.sem(squared_errors)\n",
    "\n",
    "    ci = stats.t.interval(confidence, len(squared_errors) - 1,\n",
    "                          loc=mse, scale=se)\n",
    "\n",
    "    return (ci[0], ci[1])"
   ]
  },
  {
   "cell_type": "code",
   "execution_count": 11,
   "id": "9bf1831a-80d8-4e4a-a486-46abd1b183dd",
   "metadata": {},
   "outputs": [
    {
     "name": "stdout",
     "output_type": "stream",
     "text": [
      "(-0.31401983663902466, 1.0640198366390248)\n"
     ]
    }
   ],
   "source": [
    "y_true = np.array([3, -0.5, 2, 7])\n",
    "y_pred = np.array([2.5, 0.0, 2, 8])\n",
    "\n",
    "print(confidence_mse(y_true, y_pred))  # Returns MSE confidence interval (low, high)"
   ]
  },
  {
   "cell_type": "code",
   "execution_count": null,
   "id": "3933b88b-f7f0-44ea-9173-d2d61f877b30",
   "metadata": {},
   "outputs": [],
   "source": []
  }
 ],
 "metadata": {
  "kernelspec": {
   "display_name": "Python 3 (ipykernel)",
   "language": "python",
   "name": "python3"
  },
  "language_info": {
   "codemirror_mode": {
    "name": "ipython",
    "version": 3
   },
   "file_extension": ".py",
   "mimetype": "text/x-python",
   "name": "python",
   "nbconvert_exporter": "python",
   "pygments_lexer": "ipython3",
   "version": "3.12.3"
  }
 },
 "nbformat": 4,
 "nbformat_minor": 5
}
