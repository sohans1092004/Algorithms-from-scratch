{
 "cells": [
  {
   "cell_type": "code",
   "execution_count": 1,
   "id": "4c07f842-9fcc-4c4f-bfd5-2ddbd20ab9f0",
   "metadata": {},
   "outputs": [],
   "source": [
    "def accuracy(y_true, y_pred):\n",
    "    m = len(y_true)\n",
    "\n",
    "    count = 0\n",
    "    for i in range(m):\n",
    "        count += (y_true[i] == y_pred[i])\n",
    "\n",
    "    return count / m"
   ]
  },
  {
   "cell_type": "code",
   "execution_count": 5,
   "id": "7e8734eb-7e66-4792-8a57-66c573c48219",
   "metadata": {},
   "outputs": [
    {
     "name": "stdout",
     "output_type": "stream",
     "text": [
      "0.8\n"
     ]
    }
   ],
   "source": [
    "y_true = [0, 1, 2, 2, 1]\n",
    "y_pred = [0, 2, 2, 2, 1]\n",
    "\n",
    "print(accuracy(y_true, y_pred))  # Output: 0.8"
   ]
  },
  {
   "cell_type": "code",
   "execution_count": 7,
   "id": "0e225ed7-3aea-43db-98aa-f39c0fb28542",
   "metadata": {},
   "outputs": [],
   "source": [
    "import numpy as np\n",
    "\n",
    "def accuracy_numpy(y_true, y_pred):\n",
    "    return np.mean(y_true == y_pred)"
   ]
  },
  {
   "cell_type": "code",
   "execution_count": 9,
   "id": "9ce0d5df-6ad6-41f1-8522-70015b251d34",
   "metadata": {},
   "outputs": [
    {
     "name": "stdout",
     "output_type": "stream",
     "text": [
      "0.8\n"
     ]
    }
   ],
   "source": [
    "y_true = np.array([0, 1, 2, 2, 1])\n",
    "y_pred = np.array([0, 2, 2, 2, 1])\n",
    "\n",
    "print(accuracy_numpy(y_true, y_pred))  # Output: 0.8"
   ]
  },
  {
   "cell_type": "code",
   "execution_count": null,
   "id": "eeecfffd-042a-4838-9c8f-f787901f1a8e",
   "metadata": {},
   "outputs": [],
   "source": []
  }
 ],
 "metadata": {
  "kernelspec": {
   "display_name": "Python 3 (ipykernel)",
   "language": "python",
   "name": "python3"
  },
  "language_info": {
   "codemirror_mode": {
    "name": "ipython",
    "version": 3
   },
   "file_extension": ".py",
   "mimetype": "text/x-python",
   "name": "python",
   "nbconvert_exporter": "python",
   "pygments_lexer": "ipython3",
   "version": "3.12.3"
  }
 },
 "nbformat": 4,
 "nbformat_minor": 5
}
