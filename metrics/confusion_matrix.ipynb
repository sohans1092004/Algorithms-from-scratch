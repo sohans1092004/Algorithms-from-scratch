{
 "cells": [
  {
   "cell_type": "code",
   "execution_count": 1,
   "id": "e5cfeb71-ef64-4ff3-adc1-708b8565ddb8",
   "metadata": {},
   "outputs": [],
   "source": [
    "import numpy as np\n",
    "\n",
    "def confusion_matrix(y_true, y_pred):\n",
    "    labels = sorted(set(y_true) | set(y_pred))  \n",
    "    label_to_index = {label: i for i, label in enumerate(labels)}\n",
    "    n = len(labels)\n",
    "\n",
    "    conf_mat = np.zeros((n, n), dtype=int)\n",
    "\n",
    "    for yt, yp in zip(y_true, y_pred):\n",
    "        i = label_to_index[yt]\n",
    "        j = label_to_index[yp]\n",
    "        conf_mat[i][j] += 1\n",
    "\n",
    "    return conf_mat, labels  "
   ]
  },
  {
   "cell_type": "code",
   "execution_count": 2,
   "id": "168a123c-1f5f-4ce4-a7fe-fcae14576fa7",
   "metadata": {},
   "outputs": [
    {
     "name": "stdout",
     "output_type": "stream",
     "text": [
      "Labels: [0, 1, 2]\n",
      "Confusion Matrix:\n",
      " [[1 1 0]\n",
      " [0 0 1]\n",
      " [0 0 2]]\n"
     ]
    }
   ],
   "source": [
    "y_true = [0, 1, 2, 2, 0]\n",
    "y_pred = [0, 2, 2, 2, 1]\n",
    "\n",
    "conf_mat, labels = confusion_matrix(y_true, y_pred)\n",
    "print(\"Labels:\", labels)\n",
    "print(\"Confusion Matrix:\\n\", conf_mat)"
   ]
  },
  {
   "cell_type": "code",
   "execution_count": 3,
   "id": "0ddc608e-393f-4ee9-ae8e-149a58748c7e",
   "metadata": {},
   "outputs": [],
   "source": [
    "def precision(conf_mat, avg=None):\n",
    "    TP = np.diag(conf_mat)\n",
    "    FP = np.sum(conf_mat, axis=0) - TP\n",
    "    with np.errstate(divide='ignore', invalid='ignore'):\n",
    "        precision_per_class = TP / (TP + FP)\n",
    "        precision_per_class[np.isnan(precision_per_class)] = 0  \n",
    "\n",
    "    if avg == 'weighted':\n",
    "        support = np.sum(conf_mat, axis=1) \n",
    "        weighted_precision = np.sum(precision_per_class * support) / np.sum(support)\n",
    "        return weighted_precision\n",
    "    elif avg == 'macro':\n",
    "        return np.mean(precision_per_class) \n",
    "    else:\n",
    "        return precision_per_class"
   ]
  },
  {
   "cell_type": "code",
   "execution_count": 4,
   "id": "9039b3d0-b7e9-4f98-8ba7-400ad245bc67",
   "metadata": {},
   "outputs": [
    {
     "name": "stdout",
     "output_type": "stream",
     "text": [
      "Per-class precision: [0.83333333 0.77777778]\n",
      "Macro average precision: 0.8055555555555556\n",
      "Weighted average precision: 0.8037037037037038\n"
     ]
    }
   ],
   "source": [
    "conf_mat = np.array([\n",
    "    [5, 2],\n",
    "    [1, 7]\n",
    "])\n",
    "\n",
    "print(\"Per-class precision:\", precision(conf_mat))\n",
    "print(\"Macro average precision:\", precision(conf_mat, avg='macro'))\n",
    "print(\"Weighted average precision:\", precision(conf_mat, avg='weighted'))"
   ]
  },
  {
   "cell_type": "code",
   "execution_count": 5,
   "id": "521f49c8-5e9f-4888-9d91-03ea11fa6439",
   "metadata": {},
   "outputs": [],
   "source": [
    "def recall(conf_mat, avg=None):\n",
    "    TP = np.diag(conf_mat)\n",
    "    FN = np.sum(conf_mat, axis=1) - TP\n",
    "    with np.errstate(divide='ignore', invalid='ignore'):\n",
    "        recall_per_class = TP / (TP + FN)\n",
    "        recall_per_class[np.isnan(recall_per_class)] = 0  # handle 0/0\n",
    "\n",
    "    if avg == 'weighted':\n",
    "        support = np.sum(conf_mat, axis=1) \n",
    "        weighted_recall = np.sum(recall_per_class * support) / np.sum(support)\n",
    "        return weighted_recall\n",
    "    elif avg == 'macro':\n",
    "        return  np.mean(recall_per_class) \n",
    "    else:\n",
    "        return recall_per_class\n"
   ]
  },
  {
   "cell_type": "code",
   "execution_count": 6,
   "id": "393ea43b-b74b-4709-9641-5a4c58c2eb7e",
   "metadata": {},
   "outputs": [
    {
     "name": "stdout",
     "output_type": "stream",
     "text": [
      "Per-class recall: [0.71428571 0.875     ]\n",
      "Macro recall: 0.7946428571428572\n",
      "Weighted recall: 0.8\n"
     ]
    }
   ],
   "source": [
    "print(\"Per-class recall:\", recall(conf_mat))\n",
    "print(\"Macro recall:\", recall(conf_mat, avg='macro'))\n",
    "print(\"Weighted recall:\", recall(conf_mat, avg='weighted'))"
   ]
  },
  {
   "cell_type": "code",
   "execution_count": 7,
   "id": "e62cc70c-4e57-4003-85ce-d32b0fda2217",
   "metadata": {},
   "outputs": [],
   "source": [
    "def f1_score(precision, recall):\n",
    "    return (2 * precision * recall) / (precision + recall)"
   ]
  },
  {
   "cell_type": "code",
   "execution_count": 8,
   "id": "0869235f-01ce-489a-8712-b07d2f4928e6",
   "metadata": {},
   "outputs": [
    {
     "name": "stdout",
     "output_type": "stream",
     "text": [
      "0.6857142857142857\n"
     ]
    }
   ],
   "source": [
    "prec = 0.8\n",
    "rec = 0.6\n",
    "print(f1_score(prec, rec))  # Output: 0.685714..."
   ]
  },
  {
   "cell_type": "code",
   "execution_count": null,
   "id": "248a02cb-a30e-4728-b19f-4d04e1ae82ac",
   "metadata": {},
   "outputs": [],
   "source": []
  }
 ],
 "metadata": {
  "kernelspec": {
   "display_name": "Python 3 (ipykernel)",
   "language": "python",
   "name": "python3"
  },
  "language_info": {
   "codemirror_mode": {
    "name": "ipython",
    "version": 3
   },
   "file_extension": ".py",
   "mimetype": "text/x-python",
   "name": "python",
   "nbconvert_exporter": "python",
   "pygments_lexer": "ipython3",
   "version": "3.12.3"
  }
 },
 "nbformat": 4,
 "nbformat_minor": 5
}
