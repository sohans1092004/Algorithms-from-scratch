{
 "cells": [
  {
   "cell_type": "code",
   "execution_count": 13,
   "id": "bd8814b7-6670-4a8c-8dbd-896e3b965575",
   "metadata": {},
   "outputs": [],
   "source": [
    "import numpy as np\n",
    "\n",
    "def lecun_normal(fan_in, shape):\n",
    "    std = np.sqrt(1.0 / fan_in)\n",
    "    return np.random.normal(0.0, std, size=shape)"
   ]
  },
  {
   "cell_type": "code",
   "execution_count": 15,
   "id": "9a180441-c82b-457e-b45c-965a86ce6fd1",
   "metadata": {},
   "outputs": [],
   "source": [
    "def lecun_uniform(fan_in, shape):\n",
    "    limit = np.sqrt(3.0 / fan_in)\n",
    "    return np.random.uniform(-limit, limit, size=shape)"
   ]
  },
  {
   "cell_type": "code",
   "execution_count": null,
   "id": "3ae08065-b1d9-4590-8fe8-425b12866f2d",
   "metadata": {},
   "outputs": [],
   "source": []
  }
 ],
 "metadata": {
  "kernelspec": {
   "display_name": "Python 3 (ipykernel)",
   "language": "python",
   "name": "python3"
  },
  "language_info": {
   "codemirror_mode": {
    "name": "ipython",
    "version": 3
   },
   "file_extension": ".py",
   "mimetype": "text/x-python",
   "name": "python",
   "nbconvert_exporter": "python",
   "pygments_lexer": "ipython3",
   "version": "3.12.3"
  }
 },
 "nbformat": 4,
 "nbformat_minor": 5
}
