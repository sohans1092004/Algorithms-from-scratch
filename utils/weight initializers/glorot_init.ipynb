{
 "cells": [
  {
   "cell_type": "code",
   "execution_count": 1,
   "id": "67e51ae9-13ab-45a4-8385-ea040e2def72",
   "metadata": {},
   "outputs": [],
   "source": [
    "import numpy as np\n",
    "\n",
    "def glorot_normal(fan_in, fan_out, shape):\n",
    "    std = np.sqrt(2.0 / (fan_in + fan_out))\n",
    "    return np.random.normal(0.0, std, size=shape)"
   ]
  },
  {
   "cell_type": "code",
   "execution_count": 7,
   "id": "65d5a9f8-e035-4bf7-aea5-811cccd0453f",
   "metadata": {},
   "outputs": [
    {
     "data": {
      "text/plain": [
       "array([[ 0.72664307, -0.89678523,  0.32510126,  0.30196439],\n",
       "       [-0.67790944,  0.31406384, -0.44249257, -0.27841699],\n",
       "       [ 0.6804327 , -0.17369746, -0.16344428, -0.28695287]])"
      ]
     },
     "execution_count": 7,
     "metadata": {},
     "output_type": "execute_result"
    }
   ],
   "source": [
    "W = glorot_normal(fan_in=4, fan_out=3, shape=(3, 4))\n",
    "W"
   ]
  },
  {
   "cell_type": "code",
   "execution_count": 9,
   "id": "9ec4ea4f-7895-4dac-9cea-adff1620eac0",
   "metadata": {},
   "outputs": [],
   "source": [
    "def glorot_uniform(fan_in, fan_out, shape):\n",
    "    r = np.sqrt(3.0 / (fan_in + fan_out))\n",
    "    return np.random.uniform(-r, r, size=shape)"
   ]
  },
  {
   "cell_type": "code",
   "execution_count": 11,
   "id": "f4f69663-75ae-4d97-bd68-e1bb58d111a5",
   "metadata": {},
   "outputs": [
    {
     "data": {
      "text/plain": [
       "array([[-0.3608914 ,  0.34525191,  0.24726589, -0.39814493],\n",
       "       [-0.35238564, -0.14067966, -0.25400697, -0.19094795],\n",
       "       [ 0.24999827, -0.44092554, -0.08283133,  0.48944788]])"
      ]
     },
     "execution_count": 11,
     "metadata": {},
     "output_type": "execute_result"
    }
   ],
   "source": [
    "W = glorot_uniform(fan_in=4, fan_out=3, shape=(3, 4))\n",
    "W"
   ]
  },
  {
   "cell_type": "code",
   "execution_count": null,
   "id": "d58a5729-9ffe-4c32-96d8-eefb6025f303",
   "metadata": {},
   "outputs": [],
   "source": []
  }
 ],
 "metadata": {
  "kernelspec": {
   "display_name": "Python 3 (ipykernel)",
   "language": "python",
   "name": "python3"
  },
  "language_info": {
   "codemirror_mode": {
    "name": "ipython",
    "version": 3
   },
   "file_extension": ".py",
   "mimetype": "text/x-python",
   "name": "python",
   "nbconvert_exporter": "python",
   "pygments_lexer": "ipython3",
   "version": "3.12.3"
  }
 },
 "nbformat": 4,
 "nbformat_minor": 5
}
