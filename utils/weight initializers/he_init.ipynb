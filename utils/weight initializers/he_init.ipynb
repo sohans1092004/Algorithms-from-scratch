{
 "cells": [
  {
   "cell_type": "code",
   "execution_count": 17,
   "id": "d3a351b9-aa74-4683-a032-3c238762fc9c",
   "metadata": {},
   "outputs": [],
   "source": [
    "import numpy as np\n",
    "\n",
    "def he_normal(fan_in, shape):\n",
    "    std = np.sqrt(2.0 / fan_in)\n",
    "    return np.random.normal(loc=0.0, scale=std, size=shape)"
   ]
  },
  {
   "cell_type": "code",
   "execution_count": 19,
   "id": "4b984003-8e78-4220-8502-3565bf743b27",
   "metadata": {},
   "outputs": [],
   "source": [
    "def he_uniform(fan_in, shape):\n",
    "    limit = np.sqrt(6.0 / fan_in)\n",
    "    return np.random.uniform(-limit, +limit, size=shape)"
   ]
  },
  {
   "cell_type": "code",
   "execution_count": null,
   "id": "e017bc68-4bab-48be-8182-ec268d372f1f",
   "metadata": {},
   "outputs": [],
   "source": []
  }
 ],
 "metadata": {
  "kernelspec": {
   "display_name": "Python 3 (ipykernel)",
   "language": "python",
   "name": "python3"
  },
  "language_info": {
   "codemirror_mode": {
    "name": "ipython",
    "version": 3
   },
   "file_extension": ".py",
   "mimetype": "text/x-python",
   "name": "python",
   "nbconvert_exporter": "python",
   "pygments_lexer": "ipython3",
   "version": "3.12.3"
  }
 },
 "nbformat": 4,
 "nbformat_minor": 5
}
