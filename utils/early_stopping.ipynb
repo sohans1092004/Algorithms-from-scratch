{
 "cells": [
  {
   "cell_type": "code",
   "execution_count": 1,
   "id": "3a007989-4cfa-4345-bb1d-5ac35db43ae8",
   "metadata": {},
   "outputs": [],
   "source": [
    "class EarlyStopping:\n",
    "    def __init__(self, patience=10, tol=1e-4):\n",
    "        self.patience = patience\n",
    "        self.tol = tol\n",
    "        self.best_val_loss = float('inf')\n",
    "        self.wait = 0\n",
    "        self.should_stop = False\n",
    "\n",
    "    def __call__(self, train_loss, val_loss):\n",
    "        if val_loss < self.best_val_loss - self.tol:\n",
    "            self.best_val_loss = val_loss\n",
    "            self.wait = 0\n",
    "        else:\n",
    "            self.wait += 1\n",
    "\n",
    "        if self.wait >= self.patience:\n",
    "            self.should_stop = True\n",
    "\n",
    "        return self.should_stop"
   ]
  },
  {
   "cell_type": "code",
   "execution_count": 3,
   "id": "e58ae258-2e3b-49ea-92c2-a211d96ca3e3",
   "metadata": {},
   "outputs": [],
   "source": [
    "#  early stopping class gets at a time training error and \n",
    "# validation error from each epoch of training \n",
    "# and it return whether to still run training or stop it"
   ]
  },
  {
   "cell_type": "code",
   "execution_count": null,
   "id": "706eef1d-9d24-466f-9b60-db3bc7df0a6f",
   "metadata": {},
   "outputs": [],
   "source": []
  }
 ],
 "metadata": {
  "kernelspec": {
   "display_name": "Python 3 (ipykernel)",
   "language": "python",
   "name": "python3"
  },
  "language_info": {
   "codemirror_mode": {
    "name": "ipython",
    "version": 3
   },
   "file_extension": ".py",
   "mimetype": "text/x-python",
   "name": "python",
   "nbconvert_exporter": "python",
   "pygments_lexer": "ipython3",
   "version": "3.12.3"
  }
 },
 "nbformat": 4,
 "nbformat_minor": 5
}
