{
 "cells": [
  {
   "cell_type": "code",
   "execution_count": 5,
   "id": "9768b7bd-8ebb-4b3f-85f5-b55ca5cb216a",
   "metadata": {},
   "outputs": [],
   "source": [
    "import numpy as np\n",
    "\n",
    "def corr(x, y):\n",
    "    x_mean = np.mean(x)\n",
    "    y_mean = np.mean(y)\n",
    "\n",
    "    num = np.sum((x - x_mean) * (y - y_mean))\n",
    "    den = np.sqrt(np.sum((x - x_mean)**2) * np.sum((y - y_mean)**2))\n",
    "\n",
    "    return num / den"
   ]
  },
  {
   "cell_type": "code",
   "execution_count": 7,
   "id": "1afb092e-5d0a-4a51-aee1-cae0c4cb1388",
   "metadata": {},
   "outputs": [
    {
     "name": "stdout",
     "output_type": "stream",
     "text": [
      "1.0\n"
     ]
    }
   ],
   "source": [
    "x = np.array([1, 2, 3, 4, 5])\n",
    "y = np.array([2, 4, 6, 8, 10])\n",
    "\n",
    "print(corr(x, y))  # Expected output: 1.0"
   ]
  },
  {
   "cell_type": "code",
   "execution_count": 9,
   "id": "b73c0568-af6e-4ed1-b9b6-85fa1f9eda41",
   "metadata": {},
   "outputs": [],
   "source": [
    "def corr_matrix(X):\n",
    "    n_features = X.shape[1]\n",
    "    mat = np.zeros((n_features, n_features))\n",
    "\n",
    "    for i in range(n_features):\n",
    "        for j in range(i, n_features):\n",
    "            c = corr(X[:, i], X[:, j])\n",
    "            mat[i][j] = c\n",
    "            mat[j][i] = c\n",
    "\n",
    "    return mat"
   ]
  },
  {
   "cell_type": "code",
   "execution_count": 11,
   "id": "40f680c3-b931-43e5-87aa-5c8c208ab535",
   "metadata": {},
   "outputs": [
    {
     "name": "stdout",
     "output_type": "stream",
     "text": [
      "[[1. 1. 1.]\n",
      " [1. 1. 1.]\n",
      " [1. 1. 1.]]\n"
     ]
    }
   ],
   "source": [
    "X = np.array([\n",
    "    [1, 2, 3],\n",
    "    [2, 4, 6],\n",
    "    [3, 6, 9],\n",
    "    [4, 8, 12]\n",
    "])\n",
    "\n",
    "print(corr_matrix(X))"
   ]
  },
  {
   "cell_type": "code",
   "execution_count": null,
   "id": "73bda62b-7d42-427d-9af9-54238ef8ecf4",
   "metadata": {},
   "outputs": [],
   "source": []
  }
 ],
 "metadata": {
  "kernelspec": {
   "display_name": "Python 3 (ipykernel)",
   "language": "python",
   "name": "python3"
  },
  "language_info": {
   "codemirror_mode": {
    "name": "ipython",
    "version": 3
   },
   "file_extension": ".py",
   "mimetype": "text/x-python",
   "name": "python",
   "nbconvert_exporter": "python",
   "pygments_lexer": "ipython3",
   "version": "3.12.3"
  }
 },
 "nbformat": 4,
 "nbformat_minor": 5
}
