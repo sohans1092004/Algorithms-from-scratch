{
 "cells": [
  {
   "cell_type": "code",
   "execution_count": 5,
   "id": "8c1984d8-9882-4b3e-a065-55186e23b596",
   "metadata": {},
   "outputs": [],
   "source": [
    "import tensorflow as tf\n",
    "\n",
    "class PowerScheduling:\n",
    "    def __init__(self, lr=10.0, s=10, c=1.1):\n",
    "        self.eta0 = lr\n",
    "        self.s = s\n",
    "        self.c = c\n",
    "\n",
    "    def get_lr(self, t):\n",
    "        return self.eta0 / ((1 + (t // self.s)) ** self.c)"
   ]
  },
  {
   "cell_type": "code",
   "execution_count": 7,
   "id": "9fb57950-0ef6-4e9c-8621-70e69b141789",
   "metadata": {},
   "outputs": [
    {
     "name": "stdout",
     "output_type": "stream",
     "text": [
      "Step 0: Learning Rate = 0.10000\n",
      "Step 10: Learning Rate = 0.04665\n",
      "Step 20: Learning Rate = 0.02987\n",
      "Step 30: Learning Rate = 0.02176\n",
      "Step 40: Learning Rate = 0.01703\n",
      "Step 50: Learning Rate = 0.01393\n"
     ]
    }
   ],
   "source": [
    "schedule = PowerScheduling(lr=0.1, s=10, c=1.1)\n",
    "\n",
    "for t in range(0, 51, 10):\n",
    "    print(f\"Step {t}: Learning Rate = {schedule.get_lr(t):.5f}\")"
   ]
  },
  {
   "cell_type": "code",
   "execution_count": null,
   "id": "f3d3f128-7fda-4b23-9468-b9ae7f8d7b77",
   "metadata": {},
   "outputs": [],
   "source": []
  }
 ],
 "metadata": {
  "kernelspec": {
   "display_name": "Python 3 (ipykernel)",
   "language": "python",
   "name": "python3"
  },
  "language_info": {
   "codemirror_mode": {
    "name": "ipython",
    "version": 3
   },
   "file_extension": ".py",
   "mimetype": "text/x-python",
   "name": "python",
   "nbconvert_exporter": "python",
   "pygments_lexer": "ipython3",
   "version": "3.12.3"
  }
 },
 "nbformat": 4,
 "nbformat_minor": 5
}
