{
 "cells": [
  {
   "cell_type": "code",
   "execution_count": 1,
   "id": "d72a9bab-b259-4ecf-b360-66e992e55460",
   "metadata": {},
   "outputs": [],
   "source": [
    "import numpy as np\n",
    "import tensorflow as tf\n",
    "\n",
    "class PerformanceScheduling:\n",
    "    def __init__(self, factor=10):\n",
    "        self.factor = factor\n",
    "        self.best_val = np.inf\n",
    "\n",
    "    def get_lr(self, lr, val_error):\n",
    "        if val_error < self.best_val:\n",
    "            self.best_val = val_error\n",
    "            return lr\n",
    "        else:\n",
    "            return lr / self.factor"
   ]
  },
  {
   "cell_type": "code",
   "execution_count": 2,
   "id": "72f6b0c1-9abf-4733-bfa8-80c7143fa018",
   "metadata": {},
   "outputs": [
    {
     "name": "stdout",
     "output_type": "stream",
     "text": [
      "Epoch 0: val_error=0.5, lr=0.1000\n",
      "Epoch 1: val_error=0.4, lr=0.1000\n",
      "Epoch 2: val_error=0.42, lr=0.0500\n",
      "Epoch 3: val_error=0.41, lr=0.0250\n",
      "Epoch 4: val_error=0.39, lr=0.0250\n",
      "Epoch 5: val_error=0.4, lr=0.0125\n"
     ]
    }
   ],
   "source": [
    "lr = 0.1\n",
    "scheduler = PerformanceScheduling(factor=2)\n",
    "\n",
    "val_errors = [0.5, 0.4, 0.42, 0.41, 0.39, 0.4]\n",
    "for epoch, err in enumerate(val_errors):\n",
    "    lr = scheduler.get_lr(lr, err)\n",
    "    print(f\"Epoch {epoch}: val_error={err}, lr={lr:.4f}\")"
   ]
  },
  {
   "cell_type": "code",
   "execution_count": 3,
   "id": "f982a0d2-b884-4150-ba05-c80d1f7622ec",
   "metadata": {},
   "outputs": [],
   "source": [
    "# do this after every n epochs"
   ]
  },
  {
   "cell_type": "code",
   "execution_count": 4,
   "id": "23f4f782-18a8-4b55-9d14-7f465f69065c",
   "metadata": {},
   "outputs": [],
   "source": [
    "class PerformanceScheduling:\n",
    "    def __init__(self, patience=10, factor=10):\n",
    "        self.patience = patience\n",
    "        self.factor = factor\n",
    "        self.best_val = np.inf\n",
    "        self.wait = 0\n",
    "\n",
    "    def get_lr(self, lr, val_error):\n",
    "        if val_error < self.best_val:\n",
    "            self.best_val = val_error\n",
    "            self.wait = 0\n",
    "            return lr\n",
    "        else:\n",
    "            self.wait += 1\n",
    "            if self.wait >= self.patience:\n",
    "                self.wait = 0\n",
    "                return lr / self.factor\n",
    "            else:\n",
    "                return lr"
   ]
  },
  {
   "cell_type": "code",
   "execution_count": 5,
   "id": "b2e8e659-db58-4bfe-b558-39245b36d18f",
   "metadata": {},
   "outputs": [
    {
     "name": "stdout",
     "output_type": "stream",
     "text": [
      "Epoch 0: val_loss=0.50, lr=0.1000\n",
      "Epoch 1: val_loss=0.40, lr=0.1000\n",
      "Epoch 2: val_loss=0.42, lr=0.1000\n",
      "Epoch 3: val_loss=0.45, lr=0.1000\n",
      "Epoch 4: val_loss=0.46, lr=0.0500\n",
      "Epoch 5: val_loss=0.43, lr=0.0500\n",
      "Epoch 6: val_loss=0.41, lr=0.0500\n",
      "Epoch 7: val_loss=0.39, lr=0.0500\n",
      "Epoch 8: val_loss=0.40, lr=0.0500\n",
      "Epoch 9: val_loss=0.41, lr=0.0500\n"
     ]
    }
   ],
   "source": [
    "scheduler = PerformanceScheduling(patience=3, factor=2)\n",
    "lr = 0.1\n",
    "\n",
    "val_losses = [0.5, 0.4, 0.42, 0.45, 0.46, 0.43, 0.41, 0.39, 0.4, 0.41]\n",
    "\n",
    "for epoch, val_loss in enumerate(val_losses):\n",
    "    lr = scheduler.get_lr(lr, val_loss)\n",
    "    print(f\"Epoch {epoch}: val_loss={val_loss:.2f}, lr={lr:.4f}\")"
   ]
  },
  {
   "cell_type": "code",
   "execution_count": null,
   "id": "5e3671ee-2ff2-46ee-95a0-2802df70e9b0",
   "metadata": {},
   "outputs": [],
   "source": []
  }
 ],
 "metadata": {
  "kernelspec": {
   "display_name": "Python 3 (ipykernel)",
   "language": "python",
   "name": "python3"
  },
  "language_info": {
   "codemirror_mode": {
    "name": "ipython",
    "version": 3
   },
   "file_extension": ".py",
   "mimetype": "text/x-python",
   "name": "python",
   "nbconvert_exporter": "python",
   "pygments_lexer": "ipython3",
   "version": "3.12.3"
  }
 },
 "nbformat": 4,
 "nbformat_minor": 5
}
