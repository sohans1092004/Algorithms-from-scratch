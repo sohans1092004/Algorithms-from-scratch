{
 "cells": [
  {
   "cell_type": "code",
   "execution_count": 9,
   "id": "5270029f-0937-44cb-abb4-139f3dcb1770",
   "metadata": {},
   "outputs": [],
   "source": [
    "import tensorflow as tf\n",
    "\n",
    "class ExponentialScheduling:\n",
    "    def __init__(self, lr=10.0, s=10, e=0.1):\n",
    "        self.eta0 = lr\n",
    "        self.s = s\n",
    "        self.e = e\n",
    "\n",
    "    def get_lr(self, t):\n",
    "        return self.eta0 * self.e**(t / self.s)"
   ]
  },
  {
   "cell_type": "code",
   "execution_count": 11,
   "id": "9753ab37-58ec-4313-adcb-6efe9da730ce",
   "metadata": {},
   "outputs": [
    {
     "name": "stdout",
     "output_type": "stream",
     "text": [
      "Step 0: Learning Rate = 0.10000\n",
      "Step 10: Learning Rate = 0.09600\n",
      "Step 20: Learning Rate = 0.09216\n",
      "Step 30: Learning Rate = 0.08847\n",
      "Step 40: Learning Rate = 0.08493\n",
      "Step 50: Learning Rate = 0.08154\n"
     ]
    }
   ],
   "source": [
    "schedule = ExponentialScheduling(lr=0.1, s=10, e=0.96)\n",
    "\n",
    "for t in range(0, 51, 10):\n",
    "    print(f\"Step {t}: Learning Rate = {schedule.get_lr(t):.5f}\")"
   ]
  },
  {
   "cell_type": "code",
   "execution_count": null,
   "id": "6953a8b5-0cb1-4696-9afe-127315f536a5",
   "metadata": {},
   "outputs": [],
   "source": []
  }
 ],
 "metadata": {
  "kernelspec": {
   "display_name": "Python 3 (ipykernel)",
   "language": "python",
   "name": "python3"
  },
  "language_info": {
   "codemirror_mode": {
    "name": "ipython",
    "version": 3
   },
   "file_extension": ".py",
   "mimetype": "text/x-python",
   "name": "python",
   "nbconvert_exporter": "python",
   "pygments_lexer": "ipython3",
   "version": "3.12.3"
  }
 },
 "nbformat": 4,
 "nbformat_minor": 5
}
