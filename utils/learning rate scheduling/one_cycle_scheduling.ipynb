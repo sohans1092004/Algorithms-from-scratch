{
 "cells": [
  {
   "cell_type": "code",
   "execution_count": 19,
   "id": "7b9e9fb2-0461-4f45-9b40-1d5171cc1649",
   "metadata": {},
   "outputs": [],
   "source": [
    "class OneCycleScheduling:\n",
    "    def __init__(self, eta_min=0.01, eta_max=1.0, total_steps=100):\n",
    "        self.eta_min = eta_min\n",
    "        self.eta_max = eta_max\n",
    "        self.total_steps = total_steps\n",
    "        self.step = 0\n",
    "        self.half = total_steps // 2\n",
    "\n",
    "    def get_lr(self):\n",
    "        if self.step < self.half:\n",
    "            lr = self.eta_min + (self.eta_max - self.eta_min) * (self.step / self.half)\n",
    "        else:\n",
    "            lr = self.eta_max - (self.eta_max - self.eta_min) * ((self.step - self.half) / self.half)\n",
    "\n",
    "        self.step += 1\n",
    "        return lr"
   ]
  },
  {
   "cell_type": "code",
   "execution_count": 21,
   "id": "ca778e97-6406-44ce-83d8-ee49b98c543f",
   "metadata": {},
   "outputs": [
    {
     "name": "stdout",
     "output_type": "stream",
     "text": [
      "Learning rate: 0.0100\n",
      "Learning rate: 0.0280\n",
      "Learning rate: 0.0460\n",
      "Learning rate: 0.0640\n",
      "Learning rate: 0.0820\n",
      "Learning rate: 0.1000\n",
      "Learning rate: 0.0820\n",
      "Learning rate: 0.0640\n",
      "Learning rate: 0.0460\n",
      "Learning rate: 0.0280\n"
     ]
    }
   ],
   "source": [
    "scheduler = OneCycleScheduling(eta_min=0.01, eta_max=0.1, total_steps=10)\n",
    "\n",
    "for _ in range(10):\n",
    "    lr = scheduler.get_lr()\n",
    "    print(f\"Learning rate: {lr:.4f}\")"
   ]
  },
  {
   "cell_type": "code",
   "execution_count": null,
   "id": "393182c3-7e0a-4c80-8315-291890203675",
   "metadata": {},
   "outputs": [],
   "source": []
  }
 ],
 "metadata": {
  "kernelspec": {
   "display_name": "Python 3 (ipykernel)",
   "language": "python",
   "name": "python3"
  },
  "language_info": {
   "codemirror_mode": {
    "name": "ipython",
    "version": 3
   },
   "file_extension": ".py",
   "mimetype": "text/x-python",
   "name": "python",
   "nbconvert_exporter": "python",
   "pygments_lexer": "ipython3",
   "version": "3.12.3"
  }
 },
 "nbformat": 4,
 "nbformat_minor": 5
}
