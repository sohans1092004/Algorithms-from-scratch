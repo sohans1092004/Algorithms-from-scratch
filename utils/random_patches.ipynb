{
 "cells": [
  {
   "cell_type": "code",
   "execution_count": 23,
   "id": "b05ade96-564b-49f4-b147-21d9968bf0ff",
   "metadata": {},
   "outputs": [],
   "source": [
    "import numpy as np\n",
    "\n",
    "def random_subspaces(X, features=2):\n",
    "    feature_indices = np.random.choice(X.shape[1], size=features, replace=False)\n",
    "    return X[:, feature_indices], feature_indices"
   ]
  },
  {
   "cell_type": "code",
   "execution_count": 29,
   "id": "bc06b100-2b4d-4031-bf53-1d4955527870",
   "metadata": {},
   "outputs": [],
   "source": [
    "def random_patches(X, y, features=2, size=0.2):\n",
    "    X_sub, feature_indices = random_subspaces(X, features)\n",
    "    m = X_sub.shape[0]\n",
    "    sample_size = int(m * size)\n",
    "    sample_indices = np.random.choice(m, size=sample_size, replace=True)\n",
    "    return X_sub[sample_indices], y[sample_indices], feature_indices"
   ]
  },
  {
   "cell_type": "code",
   "execution_count": 31,
   "id": "b90107cb-bf83-4b8b-8aee-7602e61e331f",
   "metadata": {},
   "outputs": [
    {
     "name": "stdout",
     "output_type": "stream",
     "text": [
      "Random patch (samples + features):\n",
      "[[5 4]\n",
      " [2 1]]\n",
      "Selected features: [1 0]\n"
     ]
    }
   ],
   "source": [
    "X = np.array([[1, 2, 3],\n",
    "              [4, 5, 6],\n",
    "              [7, 8, 9],\n",
    "              [10, 11, 12]])\n",
    "y = np.array([1, 2, 3, 4])\n",
    "\n",
    "X_sub, y_sub, feat_idx = random_patches(X, y, features=2, size=0.5)\n",
    "print(\"Random patch (samples + features):\")\n",
    "print(X_sub)\n",
    "print(\"Selected features:\", feat_idx)"
   ]
  },
  {
   "cell_type": "code",
   "execution_count": null,
   "id": "cb0ac90b-b955-4903-9c47-3dd4924fa160",
   "metadata": {},
   "outputs": [],
   "source": []
  }
 ],
 "metadata": {
  "kernelspec": {
   "display_name": "Python 3 (ipykernel)",
   "language": "python",
   "name": "python3"
  },
  "language_info": {
   "codemirror_mode": {
    "name": "ipython",
    "version": 3
   },
   "file_extension": ".py",
   "mimetype": "text/x-python",
   "name": "python",
   "nbconvert_exporter": "python",
   "pygments_lexer": "ipython3",
   "version": "3.12.3"
  }
 },
 "nbformat": 4,
 "nbformat_minor": 5
}
