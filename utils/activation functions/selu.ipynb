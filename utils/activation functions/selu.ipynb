{
 "cells": [
  {
   "cell_type": "code",
   "execution_count": 5,
   "id": "b696d621-5868-4330-9efc-d71fce6d43a0",
   "metadata": {},
   "outputs": [],
   "source": [
    "import numpy as np\n",
    "\n",
    "def selu(z):\n",
    "    alpha = 1.6732632423543772\n",
    "    scale = 1.0507009873554805  \n",
    "    return scale * np.where(z >= 0, z, alpha * (np.exp(z) - 1))"
   ]
  },
  {
   "cell_type": "code",
   "execution_count": null,
   "id": "fe914cd7-f79c-4830-a5cf-57ed635a66ef",
   "metadata": {},
   "outputs": [],
   "source": []
  }
 ],
 "metadata": {
  "kernelspec": {
   "display_name": "Python 3 (ipykernel)",
   "language": "python",
   "name": "python3"
  },
  "language_info": {
   "codemirror_mode": {
    "name": "ipython",
    "version": 3
   },
   "file_extension": ".py",
   "mimetype": "text/x-python",
   "name": "python",
   "nbconvert_exporter": "python",
   "pygments_lexer": "ipython3",
   "version": "3.12.3"
  }
 },
 "nbformat": 4,
 "nbformat_minor": 5
}
