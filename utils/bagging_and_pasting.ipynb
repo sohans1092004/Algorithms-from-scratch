{
 "cells": [
  {
   "cell_type": "code",
   "execution_count": 5,
   "id": "e9309004-878c-4b2c-9267-b4c615475e48",
   "metadata": {},
   "outputs": [],
   "source": [
    "import numpy as np\n",
    "\n",
    "def bagging(X, y, size=0.2):\n",
    "    m = X.shape[0]\n",
    "    sample_size = int(m * size)\n",
    "    indices = np.random.choice(m, size=sample_size, replace=True)\n",
    "    return X[indices], y[indices]"
   ]
  },
  {
   "cell_type": "code",
   "execution_count": 7,
   "id": "c71b4119-306b-468a-bf20-5c9c3f461fe2",
   "metadata": {},
   "outputs": [],
   "source": [
    "def pasting(X, y, size=0.2):\n",
    "    m = X.shape[0]\n",
    "    sample_size = int(m * size)\n",
    "    indices = np.random.choice(m, size=sample_size, replace=False)\n",
    "    return X[indices], y[indices]"
   ]
  },
  {
   "cell_type": "code",
   "execution_count": 17,
   "id": "074ce64d-b950-424d-ba21-0a8eb628e930",
   "metadata": {},
   "outputs": [
    {
     "name": "stdout",
     "output_type": "stream",
     "text": [
      "Bagging Sample:\n",
      " [[1]\n",
      " [1]\n",
      " [3]] [1 1 3]\n",
      "Pasting Sample:\n",
      " [[1]\n",
      " [3]\n",
      " [4]] [1 3 4]\n"
     ]
    }
   ],
   "source": [
    "X = np.array([[1], [2], [3], [4], [5]])\n",
    "y = np.array([1, 2, 3, 4, 5])\n",
    "\n",
    "X_bag, y_bag = bagging(X, y, size=0.6)\n",
    "X_paste, y_paste = pasting(X, y, size=0.6)\n",
    "\n",
    "print(\"Bagging Sample:\\n\", X_bag, y_bag)\n",
    "print(\"Pasting Sample:\\n\", X_paste, y_paste)"
   ]
  },
  {
   "cell_type": "code",
   "execution_count": null,
   "id": "c42c7daa-7378-4bc1-b920-6acba0db76f8",
   "metadata": {},
   "outputs": [],
   "source": []
  }
 ],
 "metadata": {
  "kernelspec": {
   "display_name": "Python 3 (ipykernel)",
   "language": "python",
   "name": "python3"
  },
  "language_info": {
   "codemirror_mode": {
    "name": "ipython",
    "version": 3
   },
   "file_extension": ".py",
   "mimetype": "text/x-python",
   "name": "python",
   "nbconvert_exporter": "python",
   "pygments_lexer": "ipython3",
   "version": "3.12.3"
  }
 },
 "nbformat": 4,
 "nbformat_minor": 5
}
