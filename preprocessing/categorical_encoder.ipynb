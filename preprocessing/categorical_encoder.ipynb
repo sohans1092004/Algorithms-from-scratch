{
 "cells": [
  {
   "cell_type": "code",
   "execution_count": 13,
   "id": "c281d526-8095-4d48-abb9-2fc44e20e0e0",
   "metadata": {},
   "outputs": [],
   "source": [
    "def ordinal_encoder(x_cat):\n",
    "    mp = {}\n",
    "    i = 0\n",
    "    \n",
    "    for x in x_cat:\n",
    "        if x not in mp:\n",
    "            mp[x] = i\n",
    "            i += 1\n",
    "            \n",
    "    cat = []\n",
    "    for x in x_cat:\n",
    "        cat.append(mp[x])\n",
    "\n",
    "    return cat"
   ]
  },
  {
   "cell_type": "code",
   "execution_count": 15,
   "id": "5d257c6b-9398-480f-821f-bd7272b69956",
   "metadata": {},
   "outputs": [
    {
     "name": "stdout",
     "output_type": "stream",
     "text": [
      "[0, 1, 2, 0, 1]\n"
     ]
    }
   ],
   "source": [
    "x_cat = ['red', 'blue', 'green', 'red', 'blue']\n",
    "print(ordinal_encoder(x_cat))  # Possible output: [0, 1, 2, 0, 1]"
   ]
  },
  {
   "cell_type": "code",
   "execution_count": 17,
   "id": "4790384e-1926-40e1-bfe2-3562403d8d12",
   "metadata": {},
   "outputs": [],
   "source": [
    "def one_hot_encoder(x_cat):\n",
    "    mp = {}\n",
    "    i = 0\n",
    "    for x in x_cat:\n",
    "        if x not in mp:\n",
    "            mp[x] = i\n",
    "            i += 1\n",
    "\n",
    "    one_hot = []\n",
    "    num_classes = len(mp)\n",
    "    for x in x_cat:\n",
    "        vec = [0] * num_classes\n",
    "        vec[mp[x]] = 1\n",
    "        one_hot.append(vec)\n",
    "\n",
    "    return one_hot"
   ]
  },
  {
   "cell_type": "code",
   "execution_count": 19,
   "id": "b786e03e-22c0-4fcb-829f-c957e9c98dd9",
   "metadata": {},
   "outputs": [
    {
     "name": "stdout",
     "output_type": "stream",
     "text": [
      "[[1, 0, 0], [0, 1, 0], [0, 0, 1], [1, 0, 0]]\n"
     ]
    }
   ],
   "source": [
    "x_cat = ['red', 'blue', 'green', 'red']\n",
    "print(one_hot_encoder(x_cat))\n",
    "# Expected output:\n",
    "# [\n",
    "#  [1, 0, 0],\n",
    "#  [0, 1, 0],\n",
    "#  [0, 0, 1],\n",
    "#  [1, 0, 0]\n",
    "# ]"
   ]
  },
  {
   "cell_type": "code",
   "execution_count": null,
   "id": "c34d1f84-ca53-4105-a010-8f7febc936fb",
   "metadata": {},
   "outputs": [],
   "source": []
  }
 ],
 "metadata": {
  "kernelspec": {
   "display_name": "Python 3 (ipykernel)",
   "language": "python",
   "name": "python3"
  },
  "language_info": {
   "codemirror_mode": {
    "name": "ipython",
    "version": 3
   },
   "file_extension": ".py",
   "mimetype": "text/x-python",
   "name": "python",
   "nbconvert_exporter": "python",
   "pygments_lexer": "ipython3",
   "version": "3.12.3"
  }
 },
 "nbformat": 4,
 "nbformat_minor": 5
}
