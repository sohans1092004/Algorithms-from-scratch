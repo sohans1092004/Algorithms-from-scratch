{
 "cells": [
  {
   "cell_type": "code",
   "execution_count": 7,
   "id": "5dc84955-4742-40ee-9e83-d76fc4801bac",
   "metadata": {},
   "outputs": [],
   "source": [
    "import numpy as np\n",
    "from scipy import stats\n",
    "\n",
    "def simple_imputer(x, mode='median'):\n",
    "    x = np.array(x, dtype=np.float64)\n",
    "\n",
    "    if mode == 'mean':\n",
    "        fill = np.nanmean(x)\n",
    "    elif mode == 'median':\n",
    "        fill = np.nanmedian(x)\n",
    "    elif mode == 'mode':\n",
    "        fill = stats.mode(x[~np.isnan(x)], keepdims=True)[0][0]\n",
    "    else:\n",
    "        raise ValueError(\"Invalid mode\")\n",
    "\n",
    "    x[np.isnan(x)] = fill\n",
    "    return x"
   ]
  },
  {
   "cell_type": "code",
   "execution_count": 11,
   "id": "53d611e2-fb0e-4816-8d63-0502d9fb9913",
   "metadata": {},
   "outputs": [
    {
     "name": "stdout",
     "output_type": "stream",
     "text": [
      "[1. 2. 2. 4. 2.]\n"
     ]
    }
   ],
   "source": [
    "x = [1, 2, np.nan, 4, np.nan]\n",
    "print(simple_imputer(x, mode='median'))  "
   ]
  },
  {
   "cell_type": "code",
   "execution_count": null,
   "id": "eac02b60-04b6-4c6c-9d31-0a5489cf1d65",
   "metadata": {},
   "outputs": [],
   "source": []
  }
 ],
 "metadata": {
  "kernelspec": {
   "display_name": "Python 3 (ipykernel)",
   "language": "python",
   "name": "python3"
  },
  "language_info": {
   "codemirror_mode": {
    "name": "ipython",
    "version": 3
   },
   "file_extension": ".py",
   "mimetype": "text/x-python",
   "name": "python",
   "nbconvert_exporter": "python",
   "pygments_lexer": "ipython3",
   "version": "3.12.3"
  }
 },
 "nbformat": 4,
 "nbformat_minor": 5
}
