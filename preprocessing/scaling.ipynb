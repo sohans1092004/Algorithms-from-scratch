{
 "cells": [
  {
   "cell_type": "code",
   "execution_count": 6,
   "id": "a37a39fd-5340-4a92-9174-65a1e1d084a6",
   "metadata": {},
   "outputs": [],
   "source": [
    "import numpy as np\n",
    "\n",
    "def min_max_scaler(x):\n",
    "    min_val = np.min(x)\n",
    "    max_val = np.max(x)\n",
    "    \n",
    "    return (x - min_val) / (max_val - min_val)"
   ]
  },
  {
   "cell_type": "code",
   "execution_count": 8,
   "id": "86cf6b9e-03b2-4708-a78c-d13c077f80bc",
   "metadata": {},
   "outputs": [
    {
     "name": "stdout",
     "output_type": "stream",
     "text": [
      "[0.   0.25 0.5  0.75 1.  ]\n"
     ]
    }
   ],
   "source": [
    "x = np.array([1, 2, 3, 4, 5])\n",
    "print(min_max_scaler(x))  # Expected: [0.   0.25 0.5  0.75 1.  ]"
   ]
  },
  {
   "cell_type": "code",
   "execution_count": 10,
   "id": "a8e8213f-dd4c-40fd-9fcc-53f30dfd39ae",
   "metadata": {},
   "outputs": [],
   "source": [
    "def standard_scaler(x):\n",
    "    mean = np.mean(x)\n",
    "    std = np.std(x)\n",
    "    \n",
    "    return (x - mean) / std"
   ]
  },
  {
   "cell_type": "code",
   "execution_count": 12,
   "id": "13536a6e-563b-4248-b1ae-5b4127f16e87",
   "metadata": {},
   "outputs": [
    {
     "name": "stdout",
     "output_type": "stream",
     "text": [
      "[-1.41421356 -0.70710678  0.          0.70710678  1.41421356]\n"
     ]
    }
   ],
   "source": [
    "x = np.array([1, 2, 3, 4, 5])\n",
    "print(standard_scaler(x))  # Expected: array with mean ~0 and std ~1"
   ]
  },
  {
   "cell_type": "code",
   "execution_count": null,
   "id": "357e76e9-113e-4e7b-b6bd-df555c5fe988",
   "metadata": {},
   "outputs": [],
   "source": []
  }
 ],
 "metadata": {
  "kernelspec": {
   "display_name": "Python 3 (ipykernel)",
   "language": "python",
   "name": "python3"
  },
  "language_info": {
   "codemirror_mode": {
    "name": "ipython",
    "version": 3
   },
   "file_extension": ".py",
   "mimetype": "text/x-python",
   "name": "python",
   "nbconvert_exporter": "python",
   "pygments_lexer": "ipython3",
   "version": "3.12.3"
  }
 },
 "nbformat": 4,
 "nbformat_minor": 5
}
