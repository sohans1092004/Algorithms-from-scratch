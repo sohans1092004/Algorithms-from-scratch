{
 "cells": [
  {
   "cell_type": "code",
   "execution_count": 1,
   "id": "08b7b784-6067-4524-9e32-bd84bea1eba4",
   "metadata": {},
   "outputs": [],
   "source": [
    "import numpy as np\n",
    "\n",
    "def test_train_split(X, y=None, test_size=0.20):\n",
    "    m = len(X)\n",
    "    indices = np.arange(m)\n",
    "    np.random.shuffle(indices)\n",
    "\n",
    "    test_count = int(m * test_size)\n",
    "    test_idx = indices[:test_count]\n",
    "    train_idx = indices[test_count:]\n",
    "\n",
    "    X_train = X[train_idx]\n",
    "    X_test = X[test_idx]\n",
    "\n",
    "    if y is not None:\n",
    "        y_train = y[train_idx]\n",
    "        y_test = y[test_idx]\n",
    "        return (X_train, y_train), (X_test, y_test)\n",
    "    \n",
    "    return X_train, X_test"
   ]
  },
  {
   "cell_type": "code",
   "execution_count": 5,
   "id": "9685000b-2423-47dd-b9f6-34d7a061414f",
   "metadata": {},
   "outputs": [
    {
     "name": "stdout",
     "output_type": "stream",
     "text": [
      "Train X:\n",
      " [[1]\n",
      " [3]\n",
      " [5]]\n",
      "Train y: [1 3 5]\n",
      "Test X:\n",
      " [[4]\n",
      " [2]]\n",
      "Test y: [4 2]\n"
     ]
    }
   ],
   "source": [
    "X = np.array([[1], [2], [3], [4], [5]])\n",
    "y = np.array([1, 2, 3, 4, 5])\n",
    "\n",
    "(X_train, y_train), (X_test, y_test) = test_train_split(X, y, test_size=0.4)\n",
    "\n",
    "print(\"Train X:\\n\", X_train)\n",
    "print(\"Train y:\", y_train)\n",
    "print(\"Test X:\\n\", X_test)\n",
    "print(\"Test y:\", y_test)"
   ]
  },
  {
   "cell_type": "code",
   "execution_count": null,
   "id": "79f74dee-6df2-4499-9ad2-15afcebd2b39",
   "metadata": {},
   "outputs": [],
   "source": []
  }
 ],
 "metadata": {
  "kernelspec": {
   "display_name": "Python 3 (ipykernel)",
   "language": "python",
   "name": "python3"
  },
  "language_info": {
   "codemirror_mode": {
    "name": "ipython",
    "version": 3
   },
   "file_extension": ".py",
   "mimetype": "text/x-python",
   "name": "python",
   "nbconvert_exporter": "python",
   "pygments_lexer": "ipython3",
   "version": "3.12.3"
  }
 },
 "nbformat": 4,
 "nbformat_minor": 5
}
