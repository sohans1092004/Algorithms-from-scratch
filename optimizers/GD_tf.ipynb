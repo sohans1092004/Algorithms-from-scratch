{
 "cells": [
  {
   "cell_type": "code",
   "execution_count": 29,
   "id": "de3b5bd7-8844-477e-b87b-b8934beca6f6",
   "metadata": {},
   "outputs": [],
   "source": [
    "import tensorflow as tf\n",
    "import numpy as np\n",
    "\n",
    "class GradientDescent:\n",
    "    def __init__(self, params, lr=0.01):\n",
    "        self.lr = lr\n",
    "        self.params = params\n",
    "\n",
    "    def apply_gradients(self, grads):\n",
    "        for i in range(len(self.params)):\n",
    "            self.params[i].assign_add(-self.lr * grads[i])\n",
    "\n",
    "    def train(self, loss_fn, n_epochs=100):\n",
    "        for epoch in range(n_epochs):\n",
    "            with tf.GradientTape() as tape:\n",
    "                loss = loss_fn()\n",
    "            grads = tape.gradient(loss, self.params)\n",
    "            self.apply_gradients(grads)\n",
    "        \n",
    "            if epoch % 10 == 0:\n",
    "                print(f\"Epoch {epoch}: Loss = {float(loss):.4f}, w = {w.numpy()}, b = {b.numpy()}\")"
   ]
  },
  {
   "cell_type": "code",
   "execution_count": 31,
   "id": "088e8ffc-b593-4124-bffd-f7e07fd8c127",
   "metadata": {},
   "outputs": [],
   "source": [
    "# simple loss: (w - 3)^2 + (b - 1)^2\n",
    "def loss_fn():\n",
    "    return (w - 3)**2 + (b - 1)**2"
   ]
  },
  {
   "cell_type": "code",
   "execution_count": 33,
   "id": "cd03d341-f4ff-43ad-ab36-569a2871dad4",
   "metadata": {},
   "outputs": [
    {
     "name": "stdout",
     "output_type": "stream",
     "text": [
      "Epoch 0: Loss = 5.0000, w = [4.6], b = [1.8]\n",
      "Epoch 10: Loss = 0.0576, w = [3.1717985], b = [1.0858992]\n",
      "Epoch 20: Loss = 0.0007, w = [3.0184467], b = [1.0092233]\n",
      "Epoch 30: Loss = 0.0000, w = [3.0019808], b = [1.0009904]\n",
      "Epoch 40: Loss = 0.0000, w = [3.0002127], b = [1.0001063]\n",
      "Epoch 50: Loss = 0.0000, w = [3.000023], b = [1.0000114]\n",
      "Epoch 60: Loss = 0.0000, w = [3.0000026], b = [1.0000013]\n",
      "Epoch 70: Loss = 0.0000, w = [3.0000005], b = [1.0000002]\n",
      "Epoch 80: Loss = 0.0000, w = [3.0000005], b = [1.0000002]\n",
      "Epoch 90: Loss = 0.0000, w = [3.0000005], b = [1.0000002]\n"
     ]
    }
   ],
   "source": [
    "w = tf.Variable([5.0], dtype=tf.float32)\n",
    "b = tf.Variable([2.0], dtype=tf.float32)\n",
    "\n",
    "optimizer = GradientDescent(params=[w, b], lr=0.1)\n",
    "optimizer.train(loss_fn, n_epochs=100)"
   ]
  },
  {
   "cell_type": "code",
   "execution_count": null,
   "id": "d40de2d0-8a99-48b9-b4a2-a49344909b9c",
   "metadata": {},
   "outputs": [],
   "source": []
  }
 ],
 "metadata": {
  "kernelspec": {
   "display_name": "Python 3 (ipykernel)",
   "language": "python",
   "name": "python3"
  },
  "language_info": {
   "codemirror_mode": {
    "name": "ipython",
    "version": 3
   },
   "file_extension": ".py",
   "mimetype": "text/x-python",
   "name": "python",
   "nbconvert_exporter": "python",
   "pygments_lexer": "ipython3",
   "version": "3.12.3"
  }
 },
 "nbformat": 4,
 "nbformat_minor": 5
}
