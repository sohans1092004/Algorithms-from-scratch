{
 "cells": [
  {
   "cell_type": "code",
   "execution_count": 1,
   "id": "7855bd77-82c3-42b9-a720-e6643d416824",
   "metadata": {},
   "outputs": [],
   "source": [
    "import numpy as np\n",
    "\n",
    "def cost_fn(X, y, theta):\n",
    "    m = y.shape[0]\n",
    "    error = X @ theta - y\n",
    "    return (1 / m) * (error.T @ error)"
   ]
  },
  {
   "cell_type": "code",
   "execution_count": 3,
   "id": "d8bee4a3-63b6-4db9-bb7c-4b9de11ae8d9",
   "metadata": {},
   "outputs": [],
   "source": [
    "def gradient(X, y, theta):\n",
    "    m = y.shape[0]\n",
    "    return (2 / m) * X.T @ (X @ theta - y)"
   ]
  },
  {
   "cell_type": "code",
   "execution_count": 7,
   "id": "b9a0dbc4-13f7-4946-b40c-121b3a7dcc2f",
   "metadata": {},
   "outputs": [],
   "source": [
    "def gradient_descent(X, y, theta, lr=1e-2):\n",
    "    theta -= lr * gradient(X, y, theta)\n",
    "    return theta"
   ]
  },
  {
   "cell_type": "code",
   "execution_count": 13,
   "id": "ca721efe-261f-436c-8c9a-d8359a20b7db",
   "metadata": {},
   "outputs": [],
   "source": [
    "def batch_GD(X, y, lr=1e-2, n_steps=1000):\n",
    "    theta = np.zeros(X.shape[1])\n",
    "    for _ in range(n_steps):\n",
    "        theta = gradient_descent(X, y, theta, lr)\n",
    "    return theta"
   ]
  },
  {
   "cell_type": "code",
   "execution_count": 15,
   "id": "897ad640-aede-435a-bb5d-90e9f3138deb",
   "metadata": {},
   "outputs": [],
   "source": [
    "def mini_batch_GD(X, y, lr=1e-2, n_steps=1000, batch_size=32):\n",
    "    m = y.shape[0]\n",
    "    theta = np.zeros(X.shape[1])\n",
    "    for _ in range(n_steps):\n",
    "        indices = np.random.permutation(m)\n",
    "        X_shuffled = X[indices]\n",
    "        y_shuffled = y[indices]\n",
    "        for i in range(0, m, batch_size):\n",
    "            X_batch = X_shuffled[i:i+batch_size]\n",
    "            y_batch = y_shuffled[i:i+batch_size]\n",
    "            theta = gradient_descent(X_batch, y_batch, theta, lr)\n",
    "    return theta"
   ]
  },
  {
   "cell_type": "code",
   "execution_count": 17,
   "id": "bcebd42e-76fc-4930-b4cb-216c3451fb57",
   "metadata": {},
   "outputs": [],
   "source": [
    "def stochastic_GD(X, y, lr=1e-2, n_steps=1000):\n",
    "    m = y.shape[0]\n",
    "    theta = np.zeros(X.shape[1])\n",
    "    for _ in range(n_steps):\n",
    "        indices = np.random.permutation(m)\n",
    "        for i in indices:\n",
    "            xi = X[i:i+1]\n",
    "            yi = y[i:i+1]\n",
    "            theta = gradient_descent(xi, yi, theta, lr)\n",
    "    return theta"
   ]
  },
  {
   "cell_type": "code",
   "execution_count": 19,
   "id": "4b953d0b-bda1-41e6-9b9b-bb01bd71223a",
   "metadata": {},
   "outputs": [
    {
     "name": "stdout",
     "output_type": "stream",
     "text": [
      "Batch GD: [0.97050576 1.01003164]\n",
      "Mini-batch GD: [0.99866454 1.00044486]\n",
      "Stochastic GD: [0.99999795 1.00000066]\n"
     ]
    }
   ],
   "source": [
    "# Simple dataset\n",
    "X = np.array([[1, 1], [1, 2], [1, 3], [1, 4]])  # bias included\n",
    "y = np.array([2, 3, 4, 5])\n",
    "\n",
    "theta = batch_GD(X, y)\n",
    "print(\"Batch GD:\", theta)\n",
    "\n",
    "theta = mini_batch_GD(X, y, batch_size=2)\n",
    "print(\"Mini-batch GD:\", theta)\n",
    "\n",
    "theta = stochastic_GD(X, y)\n",
    "print(\"Stochastic GD:\", theta)"
   ]
  },
  {
   "cell_type": "code",
   "execution_count": null,
   "id": "ef0bf5e1-1bbe-442a-bd9b-553098cd830d",
   "metadata": {},
   "outputs": [],
   "source": []
  }
 ],
 "metadata": {
  "kernelspec": {
   "display_name": "Python 3 (ipykernel)",
   "language": "python",
   "name": "python3"
  },
  "language_info": {
   "codemirror_mode": {
    "name": "ipython",
    "version": 3
   },
   "file_extension": ".py",
   "mimetype": "text/x-python",
   "name": "python",
   "nbconvert_exporter": "python",
   "pygments_lexer": "ipython3",
   "version": "3.12.3"
  }
 },
 "nbformat": 4,
 "nbformat_minor": 5
}
