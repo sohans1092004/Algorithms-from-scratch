{
 "cells": [
  {
   "cell_type": "code",
   "execution_count": 67,
   "id": "96179352-a9f5-4bb3-83d1-94728261b71e",
   "metadata": {},
   "outputs": [],
   "source": [
    "import tensorflow as tf\n",
    "\n",
    "class AdaGrad:\n",
    "    def __init__(self, params, lr=0.01, epsilon=1e-8):\n",
    "        self.lr = lr\n",
    "        self.epsilon = epsilon\n",
    "        self.params = params\n",
    "        self.s = [tf.Variable(tf.zeros_like(p), trainable=False) for p in params]\n",
    "\n",
    "    def apply_gradients(self, grads):\n",
    "        for i in range(len(self.params)):\n",
    "            self.s[i].assign_add(tf.square(grads[i]))\n",
    "            update = -self.lr * grads[i] / tf.sqrt(self.s[i] + self.epsilon)\n",
    "            self.params[i].assign_add(update)\n",
    "\n",
    "    def train(self, loss_fn, n_epochs=100):\n",
    "        for epoch in range(n_epochs):\n",
    "            with tf.GradientTape() as tape:\n",
    "                loss = loss_fn()\n",
    "            grads = tape.gradient(loss, self.params)\n",
    "            self.apply_gradients(grads)\n",
    "        \n",
    "            if epoch % 10 == 0:\n",
    "                print(f\"Epoch {epoch}: Loss = {float(loss):.4f}, w = {w.numpy()}, b = {b.numpy()}\")"
   ]
  },
  {
   "cell_type": "code",
   "execution_count": 69,
   "id": "cd8ea58c-4d22-4215-8da5-8f5e49bdabae",
   "metadata": {},
   "outputs": [],
   "source": [
    "# simple loss: (w - 3)^2 + (b - 1)^2\n",
    "def loss_fn():\n",
    "    return (w - 3)**2 + (b - 1)**2"
   ]
  },
  {
   "cell_type": "code",
   "execution_count": 71,
   "id": "44b85143-1270-4c31-8282-cd9455740b48",
   "metadata": {},
   "outputs": [
    {
     "name": "stdout",
     "output_type": "stream",
     "text": [
      "Epoch 0: Loss = 5.0000, w = [4.9], b = [1.9]\n",
      "Epoch 10: Loss = 2.6291, w = [4.497252], b = [1.531102]\n",
      "Epoch 20: Loss = 1.8383, w = [4.284423], b = [1.3632808]\n",
      "Epoch 30: Loss = 1.3750, w = [4.128132], b = [1.2568476]\n",
      "Epoch 40: Loss = 1.0652, w = [4.002919], b = [1.1840388]\n",
      "Epoch 50: Loss = 0.8432, w = [3.8982747], b = [1.132695]\n",
      "Epoch 60: Loss = 0.6773, w = [3.808616], b = [1.0959724]\n",
      "Epoch 70: Loss = 0.5496, w = [3.730539], b = [1.0695225]\n",
      "Epoch 80: Loss = 0.4493, w = [3.6617744], b = [1.0504037]\n",
      "Epoch 90: Loss = 0.3693, w = [3.6007125], b = [1.0365584]\n"
     ]
    }
   ],
   "source": [
    "w = tf.Variable([5.0], dtype=tf.float32)\n",
    "b = tf.Variable([2.0], dtype=tf.float32)\n",
    "\n",
    "optimizer = AdaGrad(params=[w, b], lr=0.1)\n",
    "optimizer.train(loss_fn, n_epochs=100)"
   ]
  },
  {
   "cell_type": "code",
   "execution_count": null,
   "id": "e235b416-a52e-4b02-bacd-610fb978742c",
   "metadata": {},
   "outputs": [],
   "source": []
  }
 ],
 "metadata": {
  "kernelspec": {
   "display_name": "Python 3 (ipykernel)",
   "language": "python",
   "name": "python3"
  },
  "language_info": {
   "codemirror_mode": {
    "name": "ipython",
    "version": 3
   },
   "file_extension": ".py",
   "mimetype": "text/x-python",
   "name": "python",
   "nbconvert_exporter": "python",
   "pygments_lexer": "ipython3",
   "version": "3.12.3"
  }
 },
 "nbformat": 4,
 "nbformat_minor": 5
}
