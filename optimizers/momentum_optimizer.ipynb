{
 "cells": [
  {
   "cell_type": "code",
   "execution_count": 1,
   "id": "ae021a64-b200-43b0-b5ee-2503534aecdd",
   "metadata": {},
   "outputs": [],
   "source": [
    "import tensorflow as tf\n",
    "import numpy as np\n",
    "\n",
    "class MomentumOptimizer:\n",
    "    def __init__(self, params, lr=0.01, beta=0.9):\n",
    "        self.lr = lr\n",
    "        self.beta = beta\n",
    "        self.params = params\n",
    "        self.momentum = [tf.Variable(tf.zeros_like(p), trainable=False) for p in params]\n",
    "\n",
    "    def apply_gradients(self, grads):\n",
    "        for i in range(len(self.params)):\n",
    "            self.momentum[i].assign(self.beta * self.momentum[i] - self.lr * grads[i])\n",
    "            self.params[i].assign_add(self.momentum[i])\n",
    "\n",
    "    def train(self, loss_fn, n_epochs=100):\n",
    "        for epoch in range(n_epochs):\n",
    "            with tf.GradientTape() as tape:\n",
    "                loss = loss_fn()\n",
    "            grads = tape.gradient(loss, self.params)\n",
    "            self.apply_gradients(grads)\n",
    "        \n",
    "            if epoch % 10 == 0:\n",
    "                print(f\"Epoch {epoch}: Loss = {float(loss):.4f}, w = {w.numpy()}, b = {b.numpy()}\")"
   ]
  },
  {
   "cell_type": "code",
   "execution_count": 2,
   "id": "a668dea6-9749-478e-9f8c-3e3c6c8177ac",
   "metadata": {},
   "outputs": [],
   "source": [
    "# simple loss: (w - 3)^2 + (b - 1)^2\n",
    "def loss_fn():\n",
    "    return (w - 3)**2 + (b - 1)**2"
   ]
  },
  {
   "cell_type": "code",
   "execution_count": 3,
   "id": "11c7c0bc-ca25-4440-a116-fe44e61360f0",
   "metadata": {},
   "outputs": [
    {
     "name": "stdout",
     "output_type": "stream",
     "text": [
      "Epoch 0: Loss = 5.0000, w = [4.6], b = [1.8]\n",
      "Epoch 10: Loss = 0.0001, w = [3.5085132], b = [1.2542567]\n",
      "Epoch 20: Loss = 0.6099, w = [2.3757546], b = [0.6878772]\n",
      "Epoch 30: Loss = 0.0097, w = [2.9041555], b = [0.9520777]\n",
      "Epoch 40: Loss = 0.0673, w = [3.2301683], b = [1.1150843]\n",
      "Epoch 50: Loss = 0.0047, w = [3.0033822], b = [1.0016911]\n",
      "Epoch 60: Loss = 0.0067, w = [2.919304], b = [0.9596519]\n",
      "Epoch 70: Loss = 0.0012, w = [3.0093515], b = [1.0046756]\n",
      "Epoch 80: Loss = 0.0006, w = [3.0269167], b = [1.0134584]\n",
      "Epoch 90: Loss = 0.0002, w = [2.9932268], b = [0.99661344]\n"
     ]
    }
   ],
   "source": [
    "w = tf.Variable([5.0], dtype=tf.float32)\n",
    "b = tf.Variable([2.0], dtype=tf.float32)\n",
    "\n",
    "optimizer = MomentumOptimizer(params=[w, b], lr=0.1, beta=0.9)\n",
    "optimizer.train(loss_fn, n_epochs=100)"
   ]
  },
  {
   "cell_type": "code",
   "execution_count": null,
   "id": "1de54502-8e4b-4a27-a896-4b85e6148ca8",
   "metadata": {},
   "outputs": [],
   "source": []
  }
 ],
 "metadata": {
  "kernelspec": {
   "display_name": "Python 3 (ipykernel)",
   "language": "python",
   "name": "python3"
  },
  "language_info": {
   "codemirror_mode": {
    "name": "ipython",
    "version": 3
   },
   "file_extension": ".py",
   "mimetype": "text/x-python",
   "name": "python",
   "nbconvert_exporter": "python",
   "pygments_lexer": "ipython3",
   "version": "3.12.3"
  }
 },
 "nbformat": 4,
 "nbformat_minor": 5
}
