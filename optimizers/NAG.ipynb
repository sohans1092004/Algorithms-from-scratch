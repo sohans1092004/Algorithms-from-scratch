{
 "cells": [
  {
   "cell_type": "code",
   "execution_count": 47,
   "id": "57aa5d75-62bb-4cfe-907a-fce91a671460",
   "metadata": {},
   "outputs": [],
   "source": [
    "import tensorflow as tf\n",
    "import numpy as np\n",
    "\n",
    "class NAG:\n",
    "    def __init__(self, params, lr=0.01, beta=0.9):\n",
    "        self.lr = lr\n",
    "        self.beta = beta\n",
    "        self.params = params\n",
    "        self.momentum = [tf.Variable(tf.zeros_like(p), trainable=False) for p in params]\n",
    "\n",
    "    def apply_gradients(self, grads):\n",
    "        for i in range(len(self.params)):\n",
    "            self.momentum[i].assign(self.beta * self.momentum[i] - self.lr * grads[i])\n",
    "            self.params[i].assign_add(self.momentum[i])\n",
    "\n",
    "    def train(self, loss_fn, n_epochs=100):\n",
    "        for epoch in range(n_epochs):\n",
    "            temp_params = [p + self.beta * m for p, m in zip(self.params, self.momentum)]\n",
    "\n",
    "            with tf.GradientTape() as tape:\n",
    "                # assign temp to original\n",
    "                for orig, temp in zip(self.params, temp_params):\n",
    "                    orig.assign(temp) \n",
    "                loss = loss_fn()\n",
    "\n",
    "            grads = tape.gradient(loss, self.params)\n",
    "\n",
    "            # get back to original\n",
    "            for orig, temp, m in zip(self.params, temp_params, self.momentum):\n",
    "                orig.assign(temp - self.beta * m)\n",
    "\n",
    "            self.apply_gradients(grads)\n",
    "\n",
    "            if epoch % 10 == 0:\n",
    "                print(f\"Epoch {epoch}: Loss = {float(loss):.4f}, w = {w.numpy()}, b = {b.numpy()}\")"
   ]
  },
  {
   "cell_type": "code",
   "execution_count": 49,
   "id": "4659af21-d008-4c40-9040-1cdb0d5214ba",
   "metadata": {},
   "outputs": [],
   "source": [
    "# simple loss: (w - 3)^2 + (b - 1)^2\n",
    "def loss_fn():\n",
    "    return (w - 3)**2 + (b - 1)**2"
   ]
  },
  {
   "cell_type": "code",
   "execution_count": 51,
   "id": "cae8cd2d-dd0f-442e-aa4c-3bd6a534040a",
   "metadata": {},
   "outputs": [
    {
     "name": "stdout",
     "output_type": "stream",
     "text": [
      "Epoch 0: Loss = 5.0000, w = [4.6], b = [1.8]\n",
      "Epoch 10: Loss = 0.0132, w = [3.0821772], b = [1.0410886]\n",
      "Epoch 20: Loss = 0.0078, w = [2.936804], b = [0.9684021]\n",
      "Epoch 30: Loss = 0.0000, w = [2.999456], b = [0.99972796]\n",
      "Epoch 40: Loss = 0.0000, w = [3.002388], b = [1.001194]\n",
      "Epoch 50: Loss = 0.0000, w = [2.9999247], b = [0.99996233]\n",
      "Epoch 60: Loss = 0.0000, w = [2.9999137], b = [0.99995685]\n",
      "Epoch 70: Loss = 0.0000, w = [3.0000062], b = [1.0000031]\n",
      "Epoch 80: Loss = 0.0000, w = [3.0000029], b = [1.0000015]\n",
      "Epoch 90: Loss = 0.0000, w = [2.9999995], b = [0.9999998]\n"
     ]
    }
   ],
   "source": [
    "w = tf.Variable([5.0], dtype=tf.float32)\n",
    "b = tf.Variable([2.0], dtype=tf.float32)\n",
    "\n",
    "optimizer = NAG(params=[w, b], lr=0.1, beta=0.9)\n",
    "optimizer.train(loss_fn, n_epochs=100)"
   ]
  },
  {
   "cell_type": "code",
   "execution_count": null,
   "id": "6ff0f91b-cc98-4602-b00e-5a1cf77defa8",
   "metadata": {},
   "outputs": [],
   "source": []
  }
 ],
 "metadata": {
  "kernelspec": {
   "display_name": "Python 3 (ipykernel)",
   "language": "python",
   "name": "python3"
  },
  "language_info": {
   "codemirror_mode": {
    "name": "ipython",
    "version": 3
   },
   "file_extension": ".py",
   "mimetype": "text/x-python",
   "name": "python",
   "nbconvert_exporter": "python",
   "pygments_lexer": "ipython3",
   "version": "3.12.3"
  }
 },
 "nbformat": 4,
 "nbformat_minor": 5
}
