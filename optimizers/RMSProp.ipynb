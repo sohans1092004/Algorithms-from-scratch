{
 "cells": [
  {
   "cell_type": "code",
   "execution_count": 74,
   "id": "93dd00ed-f78b-4e64-abc6-6f99aa727eff",
   "metadata": {},
   "outputs": [],
   "source": [
    "import tensorflow as tf\n",
    "\n",
    "class RMSProp:\n",
    "    def __init__(self, params, lr=0.01, beta=0.9, epsilon=1e-8):\n",
    "        self.lr = lr\n",
    "        self.beta = beta\n",
    "        self.epsilon = epsilon\n",
    "        self.params = params\n",
    "        self.s = [tf.Variable(tf.zeros_like(p), trainable=False) for p in params]\n",
    "\n",
    "    def apply_gradients(self, grads):\n",
    "        for i in range(len(self.params)):\n",
    "            self.s[i].assign(self.beta * self.s[i] + (1 - self.beta) * tf.square(grads[i]))\n",
    "            update = -self.lr * grads[i] / tf.sqrt(self.s[i] + self.epsilon)\n",
    "            self.params[i].assign_add(update)\n",
    "\n",
    "    def train(self, loss_fn, n_epochs=100):\n",
    "        for epoch in range(n_epochs):\n",
    "            with tf.GradientTape() as tape:\n",
    "                loss = loss_fn()\n",
    "            grads = tape.gradient(loss, self.params)\n",
    "\n",
    "            self.apply_gradients(grads)\n",
    "\n",
    "            if epoch % 10 == 0:\n",
    "                print(f\"Epoch {epoch}: Loss = {float(loss):.4f}, w = {w.numpy()}, b = {b.numpy()}\")"
   ]
  },
  {
   "cell_type": "code",
   "execution_count": 76,
   "id": "e24af3c6-f43b-40c2-8eab-9f13bf63fa44",
   "metadata": {},
   "outputs": [],
   "source": [
    "# simple loss: (w - 3)^2 + (b - 1)^2\n",
    "def loss_fn():\n",
    "    return (w - 3)**2 + (b - 1)**2"
   ]
  },
  {
   "cell_type": "code",
   "execution_count": 78,
   "id": "156b7b8a-b46a-44b4-bac3-638259e552ec",
   "metadata": {},
   "outputs": [
    {
     "name": "stdout",
     "output_type": "stream",
     "text": [
      "Epoch 0: Loss = 5.0000, w = [4.683772], b = [1.6837722]\n",
      "Epoch 10: Loss = 0.3644, w = [3.5352535], b = [1.0207179]\n",
      "Epoch 20: Loss = 0.0199, w = [3.116749], b = [1.0000274]\n",
      "Epoch 30: Loss = 0.0001, w = [3.0083013], b = [1.]\n",
      "Epoch 40: Loss = 0.0000, w = [3.000055], b = [1.]\n",
      "Epoch 50: Loss = 0.0000, w = [3.], b = [1.]\n",
      "Epoch 60: Loss = 0.0000, w = [3.], b = [1.]\n",
      "Epoch 70: Loss = 0.0000, w = [3.], b = [1.]\n",
      "Epoch 80: Loss = 0.0000, w = [3.], b = [1.]\n",
      "Epoch 90: Loss = 0.0000, w = [3.], b = [1.]\n"
     ]
    }
   ],
   "source": [
    "w = tf.Variable([5.0], dtype=tf.float32)\n",
    "b = tf.Variable([2.0], dtype=tf.float32)\n",
    "\n",
    "def loss_fn():\n",
    "    return (w - 3)**2 + (b - 1)**2\n",
    "\n",
    "optimizer = RMSProp(params=[w, b], lr=0.1, beta=0.9)\n",
    "optimizer.train(loss_fn, n_epochs=100)"
   ]
  },
  {
   "cell_type": "code",
   "execution_count": null,
   "id": "e73e42ed-2635-49ba-b0e1-ab7528b76540",
   "metadata": {},
   "outputs": [],
   "source": []
  }
 ],
 "metadata": {
  "kernelspec": {
   "display_name": "Python 3 (ipykernel)",
   "language": "python",
   "name": "python3"
  },
  "language_info": {
   "codemirror_mode": {
    "name": "ipython",
    "version": 3
   },
   "file_extension": ".py",
   "mimetype": "text/x-python",
   "name": "python",
   "nbconvert_exporter": "python",
   "pygments_lexer": "ipython3",
   "version": "3.12.3"
  }
 },
 "nbformat": 4,
 "nbformat_minor": 5
}
