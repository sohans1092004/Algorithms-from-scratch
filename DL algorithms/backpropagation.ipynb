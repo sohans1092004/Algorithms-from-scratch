{
 "cells": [
  {
   "cell_type": "code",
   "execution_count": 1,
   "id": "731717be-d0dd-4e11-85cc-dcff7e0ff353",
   "metadata": {},
   "outputs": [],
   "source": [
    "import numpy as np\n",
    "\n",
    "def relu(x):\n",
    "    return np.maximum(0, x)\n",
    "\n",
    "def relu_derivative(x):\n",
    "    return (x > 0).astype(float)\n",
    "\n",
    "def sigmoid(x):\n",
    "    return 1 / (1 + np.exp(-x))\n",
    "\n",
    "def sigmoid_derivative(x):\n",
    "    s = sigmoid(x)\n",
    "    return s * (1 - s)"
   ]
  },
  {
   "cell_type": "code",
   "execution_count": 2,
   "id": "b13ad38a-be9d-4656-8f55-a3e93307546a",
   "metadata": {},
   "outputs": [],
   "source": [
    "def forward_pass(x, W, b, activation_fn):\n",
    "    z = []\n",
    "    a = [x]\n",
    "    for i in range(len(W)):\n",
    "        z_i = W[i] @ a[-1] + b[i]\n",
    "        z.append(z_i)\n",
    "        \n",
    "        if activation_fn[i] == 'relu':\n",
    "            a.append(relu(z_i))\n",
    "        elif activation_fn[i] == 'sigmoid':\n",
    "            a.append(sigmoid(z_i))\n",
    "        else:\n",
    "            raise ValueError(\"Unsupported activation\")\n",
    "            \n",
    "    return z, a"
   ]
  },
  {
   "cell_type": "code",
   "execution_count": 3,
   "id": "3d2fdfe4-9de0-417e-a097-e9c922b71747",
   "metadata": {},
   "outputs": [],
   "source": [
    "def backward_pass(a, z, y, W, activation_fn, loss_fn):\n",
    "    L = len(W)\n",
    "    gradients_W = [None] * L\n",
    "    gradients_b = [None] * L\n",
    "    delta = [None] * L\n",
    "\n",
    "    # output layer\n",
    "    if loss_fn == 'MSE':\n",
    "        loss_grad = a[-1] - y\n",
    "    elif loss_fn == 'cross_entropy':\n",
    "        loss_grad = a[-1] - y  # works if sigmoid + CE used together\n",
    "    else:\n",
    "        raise ValueError(\"Unsupported loss\")\n",
    "\n",
    "    if activation_fn[-1] == 'sigmoid':\n",
    "        delta[-1] = loss_grad * sigmoid_derivative(z[-1]) if loss_fn == 'MSE' else loss_grad\n",
    "    elif activation_fn[-1] == 'relu':\n",
    "        delta[-1] = loss_grad * relu_derivative(z[-1])\n",
    "\n",
    "    # Hidden layers\n",
    "    for l in reversed(range(L - 1)):\n",
    "        if activation_fn[l] == 'sigmoid':\n",
    "            act_deriv = sigmoid_derivative(z[l])\n",
    "        else:\n",
    "            act_deriv = relu_derivative(z[l])\n",
    "        delta[l] = (W[l + 1].T @ delta[l + 1]) * act_deriv\n",
    "\n",
    "    # Gradients\n",
    "    for l in range(L):\n",
    "        gradients_W[l] = np.outer(delta[l], a[l])\n",
    "        gradients_b[l] = delta[l]\n",
    "\n",
    "    return gradients_W, gradients_b"
   ]
  },
  {
   "cell_type": "code",
   "execution_count": 4,
   "id": "51101130-e3a1-4068-85b3-2be7d8cf4c6c",
   "metadata": {},
   "outputs": [],
   "source": [
    "def gradient_descent(W, b, gradients_W, gradients_b, lr=0.01):\n",
    "    for l in range(len(W)):\n",
    "        W[l] -= lr * gradients_W[l]\n",
    "        b[l] -= lr * gradients_b[l]"
   ]
  },
  {
   "cell_type": "code",
   "execution_count": 5,
   "id": "c64f5a35-6cdb-43d7-a029-5c0508a2d6e5",
   "metadata": {},
   "outputs": [],
   "source": [
    "def train_backpropagation(X, Y, lr=0.1, epochs=1000):\n",
    "    input_dim = X.shape[1]\n",
    "    output_dim = 1\n",
    "    hidden_units = np.random.randint(3, 10)\n",
    "\n",
    "    # Initialize weights and biases for 2-layer NN\n",
    "    W = [\n",
    "        np.random.randn(hidden_units, input_dim) * 0.1,  # input -> hidden\n",
    "        np.random.randn(output_dim, hidden_units) * 0.1  # hidden -> output\n",
    "    ]\n",
    "    b = [\n",
    "        np.zeros(hidden_units),\n",
    "        np.zeros(output_dim)\n",
    "    ]\n",
    "\n",
    "    activation_fn = ['relu', 'sigmoid']\n",
    "    loss_fn = 'MSE'\n",
    "\n",
    "    for _ in range(epochs):\n",
    "        for x, y in zip(X, Y):\n",
    "            z, a = forward_pass(x, W, b, activation_fn)\n",
    "            gradients_W, gradients_b = backward_pass(a, z, y, W, activation_fn, loss_fn)\n",
    "            gradient_descent(W, b, gradients_W, gradients_b, lr)\n",
    "\n",
    "    return W, b"
   ]
  },
  {
   "cell_type": "code",
   "execution_count": 6,
   "id": "3b1044c8-3cd9-4611-9d93-5fa8e9bf85e6",
   "metadata": {},
   "outputs": [],
   "source": [
    "def predict(x, W, b, activation_fn):\n",
    "    _, a = forward_pass(x, W, b, activation_fn)\n",
    "    return a[-1]"
   ]
  },
  {
   "cell_type": "code",
   "execution_count": 16,
   "id": "237bb191-97f3-4865-aaa3-f45894e767ca",
   "metadata": {},
   "outputs": [
    {
     "name": "stdout",
     "output_type": "stream",
     "text": [
      "[array([0.01201378]), array([0.99420449]), array([0.99419912]), array([0.01201131])]\n"
     ]
    }
   ],
   "source": [
    "X = np.array([[0, 0], [0, 1], [1, 0], [1, 1]])\n",
    "Y = np.array([[0], [1], [1], [0]])  # XOR\n",
    "\n",
    "W, b = train_backpropagation(X, Y, lr=0.5, epochs=5000)\n",
    "\n",
    "print([predict(x, W, b, ['relu', 'sigmoid']) for x in X])"
   ]
  },
  {
   "cell_type": "code",
   "execution_count": null,
   "id": "7af1e493-1eb9-42fe-913d-fda2e38acd73",
   "metadata": {},
   "outputs": [],
   "source": []
  }
 ],
 "metadata": {
  "kernelspec": {
   "display_name": "Python 3 (ipykernel)",
   "language": "python",
   "name": "python3"
  },
  "language_info": {
   "codemirror_mode": {
    "name": "ipython",
    "version": 3
   },
   "file_extension": ".py",
   "mimetype": "text/x-python",
   "name": "python",
   "nbconvert_exporter": "python",
   "pygments_lexer": "ipython3",
   "version": "3.12.3"
  }
 },
 "nbformat": 4,
 "nbformat_minor": 5
}
