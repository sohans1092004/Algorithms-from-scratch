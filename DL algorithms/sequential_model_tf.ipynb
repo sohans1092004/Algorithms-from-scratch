{
 "cells": [
  {
   "cell_type": "code",
   "execution_count": 1,
   "id": "4c93962d-6504-4262-8d5e-4711a8a2b131",
   "metadata": {},
   "outputs": [],
   "source": [
    "import tensorflow as tf\n",
    "import numpy as np\n",
    "\n",
    "# lets take optimizers and activation functions as already given\n",
    "\n",
    "class SequentialTFModel:\n",
    "    def __init__(self, input_dim):\n",
    "        self.layers = []\n",
    "        self.input_dim = input_dim\n",
    "        self.prev_dim = input_dim\n",
    "\n",
    "    def add(self, units, activation='relu'):\n",
    "        # Weight and bias initialization\n",
    "        W = tf.Variable(tf.random.normal([self.prev_dim, units], stddev=0.1), trainable=True)\n",
    "        b = tf.Variable(tf.zeros([units]), trainable=True)\n",
    "        self.layers.append({'W': W, 'b': b, 'activation': activation})\n",
    "        self.prev_dim = units\n",
    "\n",
    "    def forward(self, X):\n",
    "        out = X\n",
    "        for layer in self.layers:\n",
    "            Z = tf.matmul(out, layer['W']) + layer['b']\n",
    "            if layer['activation'] == 'relu':\n",
    "                out = tf.nn.relu(Z)\n",
    "            elif layer['activation'] == 'sigmoid':\n",
    "                out = tf.nn.sigmoid(Z)\n",
    "            else:\n",
    "                raise ValueError(\"Unsupported activation\")\n",
    "        return out\n",
    "\n",
    "    def train(self, X, Y, epochs=100, lr=0.01, loss_fn='mse'):\n",
    "        optimizer = tf.optimizers.Adam(lr)\n",
    "\n",
    "        for epoch in range(epochs):\n",
    "            with tf.GradientTape() as tape:\n",
    "                predictions = self.forward(X)\n",
    "                if loss_fn == 'mse':\n",
    "                    loss = tf.reduce_mean((predictions - Y) ** 2)\n",
    "                elif loss_fn == 'bce':\n",
    "                    loss = tf.reduce_mean(tf.keras.losses.binary_crossentropy(Y, predictions))\n",
    "                else:\n",
    "                    raise ValueError(\"Unsupported loss\")\n",
    "\n",
    "            # Collect trainable variables\n",
    "            variables = []\n",
    "            for layer in self.layers:\n",
    "                variables += [layer['W'], layer['b']]\n",
    "\n",
    "            grads = tape.gradient(loss, variables)\n",
    "            optimizer.apply_gradients(zip(grads, variables))\n",
    "\n",
    "            if epoch % 10 == 0:\n",
    "                print(f\"Epoch {epoch}, Loss: {loss.numpy():.4f}\")\n",
    "\n",
    "    def predict(self, X):\n",
    "        return self.forward(X)"
   ]
  },
  {
   "cell_type": "code",
   "execution_count": 11,
   "id": "f6afd291-5dfd-4346-9c41-7b21aa4b0b8e",
   "metadata": {},
   "outputs": [
    {
     "name": "stdout",
     "output_type": "stream",
     "text": [
      "Epoch 0, Loss: 0.6975\n",
      "Epoch 10, Loss: 0.4775\n",
      "Epoch 20, Loss: 0.2015\n",
      "Epoch 30, Loss: 0.0868\n",
      "Epoch 40, Loss: 0.0572\n",
      "Epoch 50, Loss: 0.0446\n",
      "Epoch 60, Loss: 0.0373\n",
      "Epoch 70, Loss: 0.0323\n",
      "Epoch 80, Loss: 0.0283\n",
      "Epoch 90, Loss: 0.0249\n",
      "Actual:\n",
      " [1. 0. 0. 1. 0. 0. 1. 1. 0. 1. 1. 1. 0. 0. 0. 1. 1. 0. 0. 1. 0. 0. 1. 0.\n",
      " 1. 0. 1. 0. 0. 1. 0. 0. 1. 0. 1. 1. 0. 0. 1. 1. 0. 0. 1. 1. 0. 0. 1. 0.\n",
      " 1. 0. 1. 1. 0. 1. 1. 1. 0. 0. 0. 0. 0. 0. 1. 0. 1. 1. 0. 0. 0. 1. 1. 1.\n",
      " 1. 1. 1. 0. 1. 1. 1. 1. 1. 0. 0. 0. 0. 1. 1. 1. 0. 0. 0. 0. 0. 1. 0. 0.\n",
      " 0. 1. 1. 1.]\n",
      "Predictions (rounded):\n",
      " [1. 0. 0. 1. 0. 0. 1. 1. 0. 1. 1. 1. 0. 0. 0. 1. 1. 0. 0. 1. 0. 0. 1. 0.\n",
      " 1. 0. 1. 0. 0. 1. 0. 0. 1. 0. 1. 1. 0. 0. 1. 1. 0. 0. 1. 1. 0. 0. 1. 0.\n",
      " 1. 0. 1. 1. 0. 1. 1. 1. 0. 0. 0. 0. 0. 0. 1. 0. 1. 1. 0. 0. 0. 1. 1. 1.\n",
      " 1. 1. 1. 0. 1. 1. 1. 1. 1. 0. 0. 0. 0. 1. 1. 1. 0. 0. 0. 0. 0. 1. 0. 0.\n",
      " 0. 1. 1. 1.]\n"
     ]
    }
   ],
   "source": [
    "X = tf.convert_to_tensor(np.random.randn(100, 2).astype(np.float32))\n",
    "Y = tf.convert_to_tensor((np.sum(X.numpy(), axis=1) > 0).astype(np.float32).reshape(-1, 1))\n",
    "\n",
    "model = SequentialTFModel(input_dim=2)\n",
    "model.add(5, activation='relu')\n",
    "model.add(1, activation='sigmoid')\n",
    "model.train(X, Y, epochs=100, lr=0.05, loss_fn='bce')\n",
    "\n",
    "print(\"Actual:\\n\", Y.numpy().squeeze())\n",
    "predictions = model.predict(X)\n",
    "print(\"Predictions (rounded):\\n\", tf.round(predictions).numpy().squeeze())"
   ]
  },
  {
   "cell_type": "code",
   "execution_count": null,
   "id": "a0a03f8a-4735-451e-8fd7-4502a189cc88",
   "metadata": {},
   "outputs": [],
   "source": []
  }
 ],
 "metadata": {
  "kernelspec": {
   "display_name": "Python 3 (ipykernel)",
   "language": "python",
   "name": "python3"
  },
  "language_info": {
   "codemirror_mode": {
    "name": "ipython",
    "version": 3
   },
   "file_extension": ".py",
   "mimetype": "text/x-python",
   "name": "python",
   "nbconvert_exporter": "python",
   "pygments_lexer": "ipython3",
   "version": "3.12.3"
  }
 },
 "nbformat": 4,
 "nbformat_minor": 5
}
