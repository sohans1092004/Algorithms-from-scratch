{
 "cells": [
  {
   "cell_type": "code",
   "execution_count": 15,
   "id": "1a62aebd-6e3e-400c-a15b-8b4f359769be",
   "metadata": {},
   "outputs": [],
   "source": [
    "import tensorflow as tf\n",
    "import numpy as np\n",
    "\n",
    "class BatchNormLayer:\n",
    "    def __init__(self, dim, epsilon=1e-5, momentum=0.9):\n",
    "        self.gamma = tf.Variable(tf.ones([dim]), trainable=True)\n",
    "        self.beta = tf.Variable(tf.zeros([dim]), trainable=True)\n",
    "        self.epsilon = epsilon\n",
    "        self.momentum = momentum\n",
    "        self.running_mean = tf.Variable(tf.zeros([dim]), trainable=False)\n",
    "        self.running_var = tf.Variable(tf.ones([dim]), trainable=False)\n",
    "\n",
    "    def __call__(self, X, training=True):\n",
    "        if training:\n",
    "            batch_mean = tf.reduce_mean(X, axis=0)\n",
    "            batch_var = tf.math.reduce_variance(X, axis=0)\n",
    "            \n",
    "            self.running_mean.assign(self.momentum * self.running_mean + (1 - self.momentum) * batch_mean)\n",
    "            self.running_var.assign(self.momentum * self.running_var + (1 - self.momentum) * batch_var)\n",
    "            \n",
    "            X_norm = (X - batch_mean) / tf.sqrt(batch_var + self.epsilon)\n",
    "        else:\n",
    "            X_norm = (X - self.running_mean) / tf.sqrt(self.running_var + self.epsilon)\n",
    "\n",
    "        return self.gamma * X_norm + self.beta"
   ]
  },
  {
   "cell_type": "code",
   "execution_count": 17,
   "id": "f83e6641-e448-42c6-80d6-666c6b0a6142",
   "metadata": {},
   "outputs": [],
   "source": [
    "class SequentialTFModel:\n",
    "    def __init__(self, input_dim):\n",
    "        self.layers = []\n",
    "        self.input_dim = input_dim\n",
    "        self.prev_dim = input_dim\n",
    "\n",
    "    def add(self, units, activation='relu', batchnorm=False):\n",
    "        layer = {}\n",
    "        layer['W'] = tf.Variable(tf.random.normal([self.prev_dim, units], stddev=0.1), trainable=True)\n",
    "        layer['b'] = tf.Variable(tf.zeros([units]), trainable=True)\n",
    "        layer['activation'] = activation\n",
    "        layer['batchnorm'] = batchnorm\n",
    "        if batchnorm:\n",
    "            layer['bn'] = BatchNormLayer(units)\n",
    "        self.layers.append(layer)\n",
    "        self.prev_dim = units\n",
    "\n",
    "    def forward(self, X, training=True):\n",
    "        out = X\n",
    "        for layer in self.layers:\n",
    "            Z = tf.matmul(out, layer['W']) + layer['b']\n",
    "            if layer['batchnorm']:\n",
    "                Z = layer['bn'](Z, training)\n",
    "                \n",
    "            if layer['activation'] == 'relu':\n",
    "                out = tf.nn.relu(Z)\n",
    "            elif layer['activation'] == 'sigmoid':\n",
    "                out = tf.nn.sigmoid(Z)\n",
    "            else:\n",
    "                raise ValueError(\"Unsupported activation\")\n",
    "                \n",
    "        return out\n",
    "\n",
    "    def train(self, X, Y, epochs=100, lr=0.01, loss_fn='mse'):\n",
    "        optimizer = tf.optimizers.Adam(lr)\n",
    "\n",
    "        for epoch in range(epochs):\n",
    "            with tf.GradientTape() as tape:\n",
    "                predictions = self.forward(X, training=True)\n",
    "                if loss_fn == 'mse':\n",
    "                    loss = tf.reduce_mean((predictions - Y) ** 2)\n",
    "                elif loss_fn == 'bce':\n",
    "                    loss = tf.reduce_mean(tf.keras.losses.binary_crossentropy(Y, predictions))\n",
    "                else:\n",
    "                    raise ValueError(\"Unsupported loss\")\n",
    "\n",
    "            # Gather all trainable variables\n",
    "            variables = []\n",
    "            for layer in self.layers:\n",
    "                variables.extend([layer['W'], layer['b']])\n",
    "                if layer['batchnorm']:\n",
    "                    variables.extend([layer['bn'].gamma, layer['bn'].beta])\n",
    "\n",
    "            grads = tape.gradient(loss, variables)\n",
    "            optimizer.apply_gradients(zip(grads, variables))\n",
    "\n",
    "            if epoch % 10 == 0:\n",
    "                print(f\"Epoch {epoch}, Loss: {loss.numpy():.4f}\")\n",
    "\n",
    "    def predict(self, X):\n",
    "        return self.forward(X, training=False)"
   ]
  },
  {
   "cell_type": "code",
   "execution_count": 23,
   "id": "3e6d8ae0-f52b-4b02-b0ef-f5f3bf14a08d",
   "metadata": {},
   "outputs": [
    {
     "name": "stdout",
     "output_type": "stream",
     "text": [
      "Epoch 0, Loss: 0.6941\n",
      "Epoch 10, Loss: 0.6024\n",
      "Epoch 20, Loss: 0.4980\n",
      "Epoch 30, Loss: 0.3852\n",
      "Epoch 40, Loss: 0.2881\n",
      "Epoch 50, Loss: 0.2179\n",
      "Epoch 60, Loss: 0.1699\n",
      "Epoch 70, Loss: 0.1382\n",
      "Epoch 80, Loss: 0.1175\n",
      "Epoch 90, Loss: 0.1030\n"
     ]
    }
   ],
   "source": [
    "X = tf.random.normal([100, 2])\n",
    "Y = tf.cast(tf.reduce_sum(X, axis=1, keepdims=True) > 0, tf.float32)\n",
    "\n",
    "# Model\n",
    "model = SequentialTFModel(input_dim=2)\n",
    "model.add(units=5, activation='relu', batchnorm=True)\n",
    "model.add(units=1, activation='sigmoid')  \n",
    "model.train(X, Y, epochs=100, lr=0.01, loss_fn='bce')"
   ]
  },
  {
   "cell_type": "code",
   "execution_count": 27,
   "id": "cfd5b455-4a89-43b4-bc8e-464922c84795",
   "metadata": {},
   "outputs": [
    {
     "name": "stdout",
     "output_type": "stream",
     "text": [
      "Actual:\n",
      " [1. 0. 0. 0. 0. 1. 0. 1. 1. 1. 0. 0. 1. 1. 0. 1. 0. 1. 1. 1. 0. 0. 1. 1.\n",
      " 1. 1. 0. 1. 1. 1. 0. 0. 0. 1. 0. 0. 1. 0. 1. 0. 0. 0. 0. 0. 1. 1. 0. 0.\n",
      " 0. 0. 1. 1. 0. 1. 0. 0. 1. 0. 0. 0. 0. 0. 0. 1. 0. 1. 1. 1. 1. 1. 0. 1.\n",
      " 1. 1. 0. 1. 1. 0. 0. 0. 1. 0. 1. 1. 1. 0. 1. 1. 1. 1. 1. 1. 0. 0. 0. 0.\n",
      " 0. 0. 0. 0.]\n",
      "Predictions:\n",
      " [0. 0. 0. 0. 0. 1. 0. 1. 1. 1. 0. 0. 1. 1. 0. 1. 0. 1. 1. 1. 0. 0. 1. 1.\n",
      " 1. 1. 0. 1. 1. 1. 0. 0. 0. 1. 0. 0. 1. 0. 1. 0. 0. 0. 0. 0. 1. 1. 0. 0.\n",
      " 0. 0. 1. 1. 0. 1. 0. 0. 1. 0. 0. 0. 0. 0. 0. 1. 0. 1. 1. 1. 1. 1. 0. 1.\n",
      " 1. 1. 0. 1. 1. 0. 0. 0. 1. 0. 1. 1. 1. 0. 0. 1. 1. 1. 1. 1. 0. 0. 0. 0.\n",
      " 0. 0. 0. 0.]\n"
     ]
    }
   ],
   "source": [
    "print(\"Actual:\\n\", Y.numpy().squeeze())\n",
    "print(\"Predictions:\\n\", tf.round(model.predict(X)).numpy().squeeze())"
   ]
  },
  {
   "cell_type": "code",
   "execution_count": null,
   "id": "8886e676-a1c9-439c-8115-3b8f5143eae8",
   "metadata": {},
   "outputs": [],
   "source": []
  }
 ],
 "metadata": {
  "kernelspec": {
   "display_name": "Python 3 (ipykernel)",
   "language": "python",
   "name": "python3"
  },
  "language_info": {
   "codemirror_mode": {
    "name": "ipython",
    "version": 3
   },
   "file_extension": ".py",
   "mimetype": "text/x-python",
   "name": "python",
   "nbconvert_exporter": "python",
   "pygments_lexer": "ipython3",
   "version": "3.12.3"
  }
 },
 "nbformat": 4,
 "nbformat_minor": 5
}
