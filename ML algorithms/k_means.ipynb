{
 "cells": [
  {
   "cell_type": "code",
   "execution_count": 5,
   "id": "a8487298-ef34-4602-8309-e4b7c7079699",
   "metadata": {},
   "outputs": [],
   "source": [
    "import numpy as np\n",
    "\n",
    "def euclidean_dist(a, b):\n",
    "    return np.linalg.norm(a - b)"
   ]
  },
  {
   "cell_type": "code",
   "execution_count": 7,
   "id": "c029e9ff-5b3b-424f-a46a-51856be926e1",
   "metadata": {},
   "outputs": [],
   "source": [
    "def k_means(X, k=3, n_iterations=100, epsilon=1e-2):\n",
    "    n_samples, n_features = X.shape\n",
    "\n",
    "    random_indices = np.random.choice(n_samples, k, replace=False)\n",
    "    centroids = X[random_indices]\n",
    "\n",
    "    for _ in range(n_iterations):\n",
    "        clusters = [[] for _ in range(k)]\n",
    "        for x in X:\n",
    "            distances = [euclidean_dist(x, centroid) for centroid in centroids]\n",
    "            cluster_idx = np.argmin(distances)\n",
    "            clusters[cluster_idx].append(x)\n",
    "\n",
    "        new_centroids = np.array([np.mean(cluster, axis=0) if cluster else centroids[i]\n",
    "                                  for i, cluster in enumerate(clusters)])\n",
    "\n",
    "        shifts = [euclidean_dist(new_centroids[i], centroids[i]) for i in range(k)]\n",
    "        if np.max(shifts) < epsilon:\n",
    "            break\n",
    "\n",
    "        centroids = new_centroids\n",
    "\n",
    "    labels = np.zeros(n_samples, dtype=int)\n",
    "    for i, x in enumerate(X):\n",
    "        distances = [euclidean_dist(x, centroid) for centroid in centroids]\n",
    "        labels[i] = np.argmin(distances)\n",
    "\n",
    "    return centroids, labels"
   ]
  },
  {
   "cell_type": "code",
   "execution_count": 9,
   "id": "c23ec827-5f26-4d94-9015-7eb4b0ed0a7f",
   "metadata": {},
   "outputs": [
    {
     "name": "stdout",
     "output_type": "stream",
     "text": [
      "Centroids:\n",
      " [[5.5 3. ]\n",
      " [5.5 0. ]]\n",
      "Labels: [0 0 1 0 0 1]\n"
     ]
    }
   ],
   "source": [
    "X = np.array([[1, 2], [1, 4], [1, 0],\n",
    "              [10, 2], [10, 4], [10, 0]])\n",
    "\n",
    "centroids, labels = k_means(X, k=2)\n",
    "print(\"Centroids:\\n\", centroids)\n",
    "print(\"Labels:\", labels)"
   ]
  },
  {
   "cell_type": "code",
   "execution_count": null,
   "id": "c1d3942c-3f8a-4f73-9b8b-276ad9e3b59a",
   "metadata": {},
   "outputs": [],
   "source": []
  }
 ],
 "metadata": {
  "kernelspec": {
   "display_name": "Python 3 (ipykernel)",
   "language": "python",
   "name": "python3"
  },
  "language_info": {
   "codemirror_mode": {
    "name": "ipython",
    "version": 3
   },
   "file_extension": ".py",
   "mimetype": "text/x-python",
   "name": "python",
   "nbconvert_exporter": "python",
   "pygments_lexer": "ipython3",
   "version": "3.12.3"
  }
 },
 "nbformat": 4,
 "nbformat_minor": 5
}
