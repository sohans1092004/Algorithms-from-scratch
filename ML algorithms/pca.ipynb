{
 "cells": [
  {
   "cell_type": "code",
   "execution_count": 1,
   "id": "45fb65dc-c7d4-4857-b1b5-b0c54405d721",
   "metadata": {},
   "outputs": [],
   "source": [
    "import numpy as np\n",
    "\n",
    "def pca(X, n_components=2):\n",
    "    # Center the data\n",
    "    X_centered = X - np.mean(X, axis=0)\n",
    "\n",
    "    U, sigma, Vt = np.linalg.svd(X_centered)\n",
    "\n",
    "    # Projection matrix\n",
    "    W = Vt[:n_components].T \n",
    "\n",
    "    # Project the data\n",
    "    return X_centered @ W"
   ]
  },
  {
   "cell_type": "code",
   "execution_count": 3,
   "id": "ab5773c9-124e-434f-a824-b67ca89d1085",
   "metadata": {},
   "outputs": [
    {
     "name": "stdout",
     "output_type": "stream",
     "text": [
      "Projected X:\n",
      " [[-2.82842712]\n",
      " [ 0.        ]\n",
      " [ 2.82842712]]\n"
     ]
    }
   ],
   "source": [
    "X = np.array([[1, 2],\n",
    "              [3, 4],\n",
    "              [5, 6]])\n",
    "\n",
    "X_pca = pca(X, n_components=1)\n",
    "print(\"Projected X:\\n\", X_pca)"
   ]
  },
  {
   "cell_type": "code",
   "execution_count": null,
   "id": "5895ec98-3e3a-4d1e-8ab6-763d1dab9f8d",
   "metadata": {},
   "outputs": [],
   "source": []
  }
 ],
 "metadata": {
  "kernelspec": {
   "display_name": "Python 3 (ipykernel)",
   "language": "python",
   "name": "python3"
  },
  "language_info": {
   "codemirror_mode": {
    "name": "ipython",
    "version": 3
   },
   "file_extension": ".py",
   "mimetype": "text/x-python",
   "name": "python",
   "nbconvert_exporter": "python",
   "pygments_lexer": "ipython3",
   "version": "3.12.3"
  }
 },
 "nbformat": 4,
 "nbformat_minor": 5
}
