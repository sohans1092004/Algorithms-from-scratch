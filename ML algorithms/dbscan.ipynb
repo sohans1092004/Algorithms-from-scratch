{
 "cells": [
  {
   "cell_type": "code",
   "execution_count": 13,
   "id": "d0fd1ffd-89a7-4968-91f2-a0163111950d",
   "metadata": {},
   "outputs": [],
   "source": [
    "import numpy as np\n",
    "\n",
    "def euclidean_dist(a, b):\n",
    "    return np.linalg.norm(a - b)"
   ]
  },
  {
   "cell_type": "code",
   "execution_count": 15,
   "id": "5ba97c21-2a24-49a1-97a3-787a60db0d5f",
   "metadata": {},
   "outputs": [],
   "source": [
    "def dist_matrix(X):\n",
    "    m = X.shape[0]\n",
    "    D = np.zeros((m, m))\n",
    "    for i in range(m):\n",
    "        for j in range(i, m):\n",
    "            D[i][j] = D[j][i] = euclidean_dist(X[i], X[j])\n",
    "    return D"
   ]
  },
  {
   "cell_type": "code",
   "execution_count": 17,
   "id": "f2d151f4-dc71-4039-90dc-47a6a556dcbf",
   "metadata": {},
   "outputs": [],
   "source": [
    "class DSU:\n",
    "    def __init__(self, size):\n",
    "        self.parent = list(range(size))\n",
    "\n",
    "    def find(self, x):\n",
    "        if self.parent[x] != x:\n",
    "            self.parent[x] = self.find(self.parent[x])\n",
    "        return self.parent[x]\n",
    "\n",
    "    def union(self, x, y):\n",
    "        xr = self.find(x)\n",
    "        yr = self.find(y)\n",
    "        if xr != yr:\n",
    "            self.parent[yr] = xr"
   ]
  },
  {
   "cell_type": "code",
   "execution_count": 19,
   "id": "0795491a-e446-4282-b86f-1285a8575935",
   "metadata": {},
   "outputs": [],
   "source": [
    "def dbscan(X, epsilon=0.5, min_samples=3):\n",
    "    m = X.shape[0]\n",
    "    \n",
    "    dsu = DSU(m)\n",
    "    D = dist_matrix(X)\n",
    "\n",
    "    core_points = []\n",
    "    for i in range(m):\n",
    "        neighbors = np.where(D[i] <= epsilon)[0]\n",
    "        if len(neighbors) >= min_samples:\n",
    "            core_points.append(i)\n",
    "            for j in neighbors:\n",
    "                dsu.union(i, j)\n",
    "\n",
    "    labels = [-1] * m  # -1 means noise \n",
    "    cluster_map = {}\n",
    "    cluster_id = 0\n",
    "\n",
    "    for i in core_points:\n",
    "        root = dsu.find(i)\n",
    "        if root not in cluster_map:\n",
    "            cluster_map[root] = cluster_id\n",
    "            cluster_id += 1\n",
    "        labels[i] = cluster_map[root]\n",
    "\n",
    "    for i in range(m):\n",
    "        if labels[i] == -1:\n",
    "            for j in core_points:\n",
    "                if D[i][j] <= epsilon:\n",
    "                    labels[i] = labels[j]\n",
    "                    break\n",
    "\n",
    "    return labels"
   ]
  },
  {
   "cell_type": "code",
   "execution_count": 21,
   "id": "8c2f86e7-6c37-494b-8e8e-c790c3818135",
   "metadata": {},
   "outputs": [
    {
     "name": "stdout",
     "output_type": "stream",
     "text": [
      "Cluster Labels: [0, 0, 0, 1, 1, -1]\n"
     ]
    }
   ],
   "source": [
    "X = np.array([[1, 2], [1, 3], [1, 4],\n",
    "              [10, 10], [10, 11], [25, 25]])\n",
    "\n",
    "labels = dbscan(X, epsilon=1.5, min_samples=2)\n",
    "print(\"Cluster Labels:\", labels)"
   ]
  },
  {
   "cell_type": "code",
   "execution_count": null,
   "id": "02714760-9a1a-4b78-8dc5-43cdc836c573",
   "metadata": {},
   "outputs": [],
   "source": []
  }
 ],
 "metadata": {
  "kernelspec": {
   "display_name": "Python 3 (ipykernel)",
   "language": "python",
   "name": "python3"
  },
  "language_info": {
   "codemirror_mode": {
    "name": "ipython",
    "version": 3
   },
   "file_extension": ".py",
   "mimetype": "text/x-python",
   "name": "python",
   "nbconvert_exporter": "python",
   "pygments_lexer": "ipython3",
   "version": "3.12.3"
  }
 },
 "nbformat": 4,
 "nbformat_minor": 5
}
