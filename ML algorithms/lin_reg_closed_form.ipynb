{
 "cells": [
  {
   "cell_type": "code",
   "execution_count": 1,
   "id": "2e91c189-d91b-496b-98a9-16b0aad6eae8",
   "metadata": {},
   "outputs": [],
   "source": [
    "import numpy as np\n",
    "\n",
    "def linear_regression_pseudo_inverse(X, y):\n",
    "    X_t = X.T\n",
    "    temp = np.linalg.inv(X_t @ X)\n",
    "    theta = temp @ X_t @ y\n",
    "    return theta"
   ]
  },
  {
   "cell_type": "code",
   "execution_count": 2,
   "id": "7709ff18-1210-4860-8ab2-a9f3d9368ebd",
   "metadata": {},
   "outputs": [
    {
     "name": "stdout",
     "output_type": "stream",
     "text": [
      "[8.8817842e-16 1.0000000e+00]\n"
     ]
    }
   ],
   "source": [
    "X = np.array([[1, 1], [1, 2], [1, 3]])  # Add bias term manually\n",
    "y = np.array([1, 2, 3])\n",
    "\n",
    "theta = linear_regression_pseudo_inverse(X, y)\n",
    "print(theta)  # Output: [0. 1.]"
   ]
  },
  {
   "cell_type": "code",
   "execution_count": 3,
   "id": "2328994c-383f-4c61-8392-7fcdcb71bf69",
   "metadata": {},
   "outputs": [],
   "source": [
    "def linear_reg_svd(X, y):\n",
    "    U, s, Vt = np.linalg.svd(X, full_matrices=False)\n",
    "    S_inv = np.diag(1 / s)\n",
    "    theta = Vt.T @ S_inv @ U.T @ y\n",
    "    return theta"
   ]
  },
  {
   "cell_type": "code",
   "execution_count": 4,
   "id": "a08d147d-3599-4aaa-aecd-aca2ea29a754",
   "metadata": {},
   "outputs": [],
   "source": [
    "def predict(X, theta):\n",
    "    return X @ theta"
   ]
  },
  {
   "cell_type": "code",
   "execution_count": 5,
   "id": "2851152b-acb9-476c-9c36-a9eb74aa9917",
   "metadata": {},
   "outputs": [
    {
     "name": "stdout",
     "output_type": "stream",
     "text": [
      "[4.4408921e-16 1.0000000e+00]\n"
     ]
    }
   ],
   "source": [
    "X = np.array([[1, 1], [1, 2], [1, 3]])  # Includes bias term\n",
    "y = np.array([1, 2, 3])\n",
    "\n",
    "theta = linear_reg_svd(X, y)\n",
    "print(theta)  # Should be close to [0. 1.]"
   ]
  },
  {
   "cell_type": "code",
   "execution_count": 6,
   "id": "935865f9-56a5-4b35-9eb0-b519cce0cddf",
   "metadata": {},
   "outputs": [
    {
     "name": "stdout",
     "output_type": "stream",
     "text": [
      "Predicted values: [2. 3. 4.]\n"
     ]
    }
   ],
   "source": [
    "X = np.array([[1, 2], [1, 3], [1, 4]])  # shape (3, 2) with bias\n",
    "\n",
    "# Predict outputs\n",
    "y_pred = predict(X, theta)\n",
    "print(\"Predicted values:\", y_pred)"
   ]
  },
  {
   "cell_type": "code",
   "execution_count": null,
   "id": "1cc4e9c5-d2c1-4134-8a04-043ea0d85153",
   "metadata": {},
   "outputs": [],
   "source": []
  }
 ],
 "metadata": {
  "kernelspec": {
   "display_name": "Python 3 (ipykernel)",
   "language": "python",
   "name": "python3"
  },
  "language_info": {
   "codemirror_mode": {
    "name": "ipython",
    "version": 3
   },
   "file_extension": ".py",
   "mimetype": "text/x-python",
   "name": "python",
   "nbconvert_exporter": "python",
   "pygments_lexer": "ipython3",
   "version": "3.12.3"
  }
 },
 "nbformat": 4,
 "nbformat_minor": 5
}
