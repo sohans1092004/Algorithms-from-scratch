{
 "cells": [
  {
   "cell_type": "code",
   "execution_count": 8,
   "id": "a2301241-d876-4947-b642-fde14e3a50c8",
   "metadata": {},
   "outputs": [],
   "source": [
    "import numpy as np\n",
    "\n",
    "class LinearSVM:\n",
    "    def __init__(self, lr=0.01, C=1.0, n_iters=1000):\n",
    "        self.lr = lr\n",
    "        self.C = C\n",
    "        self.n_iters = n_iters\n",
    "        self.w = None\n",
    "        self.b = None\n",
    "\n",
    "    def fit(self, X, y):\n",
    "        m, n = X.shape\n",
    "        t = np.where(y <= 0, -1, 1)\n",
    "\n",
    "        self.w = np.random.randn(n) * 0.01  # Small random init\n",
    "        self.b = 0\n",
    "\n",
    "        for _ in range(self.n_iters):\n",
    "            for idx, x_i in enumerate(X):\n",
    "                if t[idx] * (np.dot(x_i, self.w) + self.b) >= 1:\n",
    "                    dw = self.w\n",
    "                    db = 0\n",
    "                else:\n",
    "                    dw = self.w - self.C * t[idx] * x_i\n",
    "                    db = -self.C * t[idx]\n",
    "\n",
    "                self.w -= self.lr * dw\n",
    "                self.b -= self.lr * db\n",
    "\n",
    "    def predict(self, X):\n",
    "        return np.sign(np.dot(X, self.w) + self.b)"
   ]
  },
  {
   "cell_type": "code",
   "execution_count": 12,
   "id": "d8b8322a-f3ad-4db8-a8e0-48241b62fcb5",
   "metadata": {},
   "outputs": [
    {
     "name": "stdout",
     "output_type": "stream",
     "text": [
      "Predictions: [ 1.  1. -1. -1.]\n"
     ]
    }
   ],
   "source": [
    "X = np.array([[2, 3], [1, 1], [2, 1], [3, 1]])\n",
    "y = np.array([1, 1, -1, -1])\n",
    "\n",
    "svm = LinearSVM(lr=0.01, C=10.0, n_iters=2000)\n",
    "svm.fit(X, y)\n",
    "\n",
    "preds = svm.predict(X)\n",
    "print(\"Predictions:\", preds)  # Expected: [1, 1, -1, -1]"
   ]
  },
  {
   "cell_type": "code",
   "execution_count": null,
   "id": "bda733da-5f38-4574-a8c8-9b2d791ceef9",
   "metadata": {},
   "outputs": [],
   "source": []
  }
 ],
 "metadata": {
  "kernelspec": {
   "display_name": "Python 3 (ipykernel)",
   "language": "python",
   "name": "python3"
  },
  "language_info": {
   "codemirror_mode": {
    "name": "ipython",
    "version": 3
   },
   "file_extension": ".py",
   "mimetype": "text/x-python",
   "name": "python",
   "nbconvert_exporter": "python",
   "pygments_lexer": "ipython3",
   "version": "3.12.3"
  }
 },
 "nbformat": 4,
 "nbformat_minor": 5
}
