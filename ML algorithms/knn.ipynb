{
 "cells": [
  {
   "cell_type": "code",
   "execution_count": 1,
   "id": "5c4c45ae-b41d-47cf-8d61-4e57a00c4527",
   "metadata": {},
   "outputs": [],
   "source": [
    "import numpy as np\n",
    "\n",
    "def euclidean_dist(x1, x2):\n",
    "    return np.sqrt(np.sum((x1 - x2) ** 2))"
   ]
  },
  {
   "cell_type": "code",
   "execution_count": 3,
   "id": "d1b8e8b3-45f2-4d6f-b35b-ea1490154563",
   "metadata": {},
   "outputs": [],
   "source": [
    "import heapq\n",
    "from collections import defaultdict, Counter\n",
    "\n",
    "def knn_classifier(X, y, x, k=2, avg='macro'):\n",
    "    heap = []  # min-heap based on distance\n",
    "    for i, xi in enumerate(X):\n",
    "        dist = euclidean_dist(x, xi)\n",
    "        heapq.heappush(heap, (dist, y[i]))\n",
    "\n",
    "    # Get top-k neighbors\n",
    "    k_neighbors = heapq.nsmallest(k, heap)\n",
    "\n",
    "    if avg == 'macro':\n",
    "        labels = [label for _, label in k_neighbors]\n",
    "        return Counter(labels).most_common(1)[0][0]\n",
    "\n",
    "    elif avg == 'weighted':\n",
    "        weights = defaultdict(float)\n",
    "        for dist, label in k_neighbors:\n",
    "            if dist == 0:\n",
    "                weights[label] += 1e9  # handle zero distance \n",
    "            else:\n",
    "                weights[label] += 1 / dist\n",
    "        return max(weights, key=weights.get)"
   ]
  },
  {
   "cell_type": "code",
   "execution_count": 5,
   "id": "0aa5f1f7-df78-4fe0-a4f8-d80d899e87bc",
   "metadata": {},
   "outputs": [
    {
     "name": "stdout",
     "output_type": "stream",
     "text": [
      "B\n",
      "B\n"
     ]
    }
   ],
   "source": [
    "X = np.array([[1, 2], [2, 3], [3, 3], [6, 5], [7, 8]])\n",
    "y = np.array(['A', 'A', 'B', 'B', 'A'])\n",
    "x = np.array([4, 4])\n",
    "\n",
    "print(knn_classifier(X, y, x, k=3, avg='macro'))    # Output: 'B'\n",
    "print(knn_classifier(X, y, x, k=3, avg='weighted')) # Output: 'B'"
   ]
  },
  {
   "cell_type": "code",
   "execution_count": 7,
   "id": "4e2efa6d-3d99-4c27-be07-b36b254cab7f",
   "metadata": {},
   "outputs": [],
   "source": [
    "def knn_regressor(X, y, x, k=3, weight='macro'):\n",
    "    heap = []\n",
    "    for i, xi in enumerate(X):\n",
    "        dist = euclidean_dist(x, xi)\n",
    "        heapq.heappush(heap, (dist, y[i]))\n",
    "\n",
    "    k_neighbors = heapq.nsmallest(k, heap)\n",
    "\n",
    "    if weight == 'macro':\n",
    "        values = [val for _, val in k_neighbors]\n",
    "        return np.mean(values)\n",
    "\n",
    "    elif weight == 'weighted':\n",
    "        total_weight = 0\n",
    "        weighted_sum = 0\n",
    "        for dist, val in k_neighbors:\n",
    "            w = 1e9 if dist == 0 else 1 / dist  # handle zero distance\n",
    "            weighted_sum += w * val\n",
    "            total_weight += w\n",
    "        return weighted_sum / total_weight"
   ]
  },
  {
   "cell_type": "code",
   "execution_count": 9,
   "id": "d89d0799-43e3-4501-8f23-e1102b9f50f7",
   "metadata": {},
   "outputs": [
    {
     "name": "stdout",
     "output_type": "stream",
     "text": [
      "4.0\n",
      "4.0\n"
     ]
    }
   ],
   "source": [
    "X = np.array([[1, 2], [2, 3], [3, 3], [6, 5], [7, 8]])\n",
    "y = np.array([3.0, 2.5, 4.0, 5.5, 3.5])\n",
    "x = np.array([4, 4])\n",
    "\n",
    "print(knn_regressor(X, y, x, k=3, weight='macro'))  # Output: 4.0\n",
    "print(knn_regressor(X, y, x, k=3, weight='weighted')) # Output: weighted avg"
   ]
  },
  {
   "cell_type": "code",
   "execution_count": null,
   "id": "5780229a-6a76-40f9-a18f-3d784ba5099f",
   "metadata": {},
   "outputs": [],
   "source": []
  }
 ],
 "metadata": {
  "kernelspec": {
   "display_name": "Python 3 (ipykernel)",
   "language": "python",
   "name": "python3"
  },
  "language_info": {
   "codemirror_mode": {
    "name": "ipython",
    "version": 3
   },
   "file_extension": ".py",
   "mimetype": "text/x-python",
   "name": "python",
   "nbconvert_exporter": "python",
   "pygments_lexer": "ipython3",
   "version": "3.12.3"
  }
 },
 "nbformat": 4,
 "nbformat_minor": 5
}
