{
 "cells": [
  {
   "cell_type": "code",
   "execution_count": 1,
   "id": "aa1fb055-4018-4dcd-9311-376e739f0a27",
   "metadata": {},
   "outputs": [],
   "source": [
    "import numpy as np\n",
    "\n",
    "def sigmoid(t):\n",
    "    return 1 / (1 + np.exp(-t))"
   ]
  },
  {
   "cell_type": "code",
   "execution_count": 2,
   "id": "0f43fc34-8e95-4259-a276-728463828c45",
   "metadata": {},
   "outputs": [],
   "source": [
    "def gradient(X, y, theta):\n",
    "    m = X.shape[0]\n",
    "    predictions = sigmoid(X @ theta)\n",
    "    return (1 / m) * X.T @ (predictions - y)"
   ]
  },
  {
   "cell_type": "code",
   "execution_count": 3,
   "id": "36968414-c495-452f-bb51-e05007fb8de4",
   "metadata": {},
   "outputs": [],
   "source": [
    "def gradient_descent(X, y, lr=1e-2, n_steps=1000):\n",
    "    theta = np.zeros(X.shape[1])\n",
    "\n",
    "    for _ in range(n_steps):\n",
    "        gradients = gradient(X, y, theta)\n",
    "        theta -= lr * gradients\n",
    "\n",
    "    return theta"
   ]
  },
  {
   "cell_type": "code",
   "execution_count": 4,
   "id": "5d4facc0-838e-48e3-806a-9f35e6b26367",
   "metadata": {},
   "outputs": [],
   "source": [
    "def predict_proba(X, theta):\n",
    "    return sigmoid(X @ theta)\n",
    "\n",
    "def predict(X, theta, threshold=0.5):\n",
    "    probs = predict_proba(X, theta)\n",
    "    return (probs >= threshold).astype(int)"
   ]
  },
  {
   "cell_type": "code",
   "execution_count": 5,
   "id": "faf0cdeb-74b2-4d34-bb64-db71d8770261",
   "metadata": {},
   "outputs": [
    {
     "name": "stdout",
     "output_type": "stream",
     "text": [
      "Learned Parameters:  [-5.97303274  1.7764563 ]\n",
      "Probabilities: [0.08165125 0.34441879 0.75635387 0.94830175]\n",
      "Predicted labels: [0 0 1 1]\n"
     ]
    }
   ],
   "source": [
    "# Add bias term\n",
    "X = np.array([[1, 2], [1, 3], [1, 4], [1, 5]])  \n",
    "y = np.array([0, 0, 1, 1])      \n",
    "\n",
    "theta = gradient_descent(X, y, lr=0.1)\n",
    "print(\"Learned Parameters: \", theta)\n",
    "\n",
    "# Predict probabilities\n",
    "probs = predict_proba(X, theta)\n",
    "print(\"Probabilities:\", probs)\n",
    "\n",
    "# Predict class labels\n",
    "labels = predict(X, theta)\n",
    "print(\"Predicted labels:\", labels)"
   ]
  }
 ],
 "metadata": {
  "kernelspec": {
   "display_name": "Python 3 (ipykernel)",
   "language": "python",
   "name": "python3"
  },
  "language_info": {
   "codemirror_mode": {
    "name": "ipython",
    "version": 3
   },
   "file_extension": ".py",
   "mimetype": "text/x-python",
   "name": "python",
   "nbconvert_exporter": "python",
   "pygments_lexer": "ipython3",
   "version": "3.12.3"
  }
 },
 "nbformat": 4,
 "nbformat_minor": 5
}
