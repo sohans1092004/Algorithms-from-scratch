{
 "cells": [
  {
   "cell_type": "code",
   "execution_count": 9,
   "id": "3779a56c-cdea-4aa1-a7b2-506e110249bc",
   "metadata": {},
   "outputs": [],
   "source": [
    "import numpy as np\n",
    "\n",
    "def ridge_regression(X, y, lam=1.0):\n",
    "    n_features = X.shape[1]\n",
    "    I = np.eye(n_features)           # Identity matrix\n",
    "    return np.linalg.inv(X.T @ X + lam * I) @ X.T @ y"
   ]
  },
  {
   "cell_type": "code",
   "execution_count": 11,
   "id": "c3517087-cc1c-4ea3-85ce-02116b54fc8d",
   "metadata": {},
   "outputs": [
    {
     "name": "stdout",
     "output_type": "stream",
     "text": [
      "Theta (weights): [0.61818182 1.09090909]\n"
     ]
    }
   ],
   "source": [
    "# Add bias term \n",
    "X = np.array([[1, 1],  \n",
    "              [1, 2],\n",
    "              [1, 3],\n",
    "              [1, 4]]) \n",
    "y = np.array([2, 3, 4, 5])  # True outputs\n",
    "\n",
    "theta = ridge_regression(X, y, lam=1.0)\n",
    "print(\"Theta (weights):\", theta)"
   ]
  },
  {
   "cell_type": "code",
   "execution_count": null,
   "id": "8f6a4953-8481-401d-bb5f-b5951dd7bbfc",
   "metadata": {},
   "outputs": [],
   "source": []
  }
 ],
 "metadata": {
  "kernelspec": {
   "display_name": "Python 3 (ipykernel)",
   "language": "python",
   "name": "python3"
  },
  "language_info": {
   "codemirror_mode": {
    "name": "ipython",
    "version": 3
   },
   "file_extension": ".py",
   "mimetype": "text/x-python",
   "name": "python",
   "nbconvert_exporter": "python",
   "pygments_lexer": "ipython3",
   "version": "3.12.3"
  }
 },
 "nbformat": 4,
 "nbformat_minor": 5
}
