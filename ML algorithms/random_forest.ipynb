{
 "cells": [
  {
   "cell_type": "code",
   "execution_count": 1,
   "id": "b5ea4f30-8078-4114-b31d-2086fbce12e9",
   "metadata": {},
   "outputs": [],
   "source": [
    "# lets take decision trees as granted"
   ]
  },
  {
   "cell_type": "code",
   "execution_count": 2,
   "id": "f6bd32a1-73a3-4c74-8f67-0321e2eaef63",
   "metadata": {},
   "outputs": [],
   "source": [
    "import numpy as np\n",
    "\n",
    "def random_patches(X, y, size=0.4, features=2):\n",
    "    m, n = X.shape\n",
    "    sample_size = int(m * size)\n",
    "    sample_indices = np.random.choice(m, size=sample_size, replace=True)\n",
    "    feature_indices = np.random.choice(n, size=features, replace=False)\n",
    "    \n",
    "    X_patch = X[sample_indices][:, feature_indices]\n",
    "    y_patch = y[sample_indices]\n",
    "    \n",
    "    return X_patch, y_patch, feature_indices"
   ]
  },
  {
   "cell_type": "code",
   "execution_count": 3,
   "id": "e864ca21-996c-4266-b03a-32f828d71c3a",
   "metadata": {},
   "outputs": [],
   "source": [
    "from sklearn.tree import DecisionTreeClassifier\n",
    "\n",
    "def random_forest_classifier(X, y, n_estimators=10):\n",
    "    models = []\n",
    "    feature_sets = []\n",
    "    n = X.shape[1]\n",
    "    \n",
    "    for _ in range(n_estimators):\n",
    "        f = int(np.sqrt(n))\n",
    "        X_patch, y_patch, feat_idx = random_patches(X, y, size=0.4, features=f)\n",
    "        tree = DecisionTreeClassifier()\n",
    "        tree.fit(X_patch, y_patch)\n",
    "        models.append(tree)\n",
    "        feature_sets.append(feat_idx)\n",
    "    \n",
    "    return models, feature_sets"
   ]
  },
  {
   "cell_type": "code",
   "execution_count": 4,
   "id": "9b2e521b-af3d-4b40-9ff1-6c67383d011b",
   "metadata": {},
   "outputs": [],
   "source": [
    "from scipy.stats import mode\n",
    "\n",
    "def predict_random_forest_one(x, models, feature_sets):\n",
    "    predictions = []\n",
    "    for tree, feat_idx in zip(models, feature_sets):\n",
    "        x_subset = x[feat_idx].reshape(1, -1)  # Fix 1: subset + reshape\n",
    "        pred = tree.predict(x_subset)[0]\n",
    "        predictions.append(pred)\n",
    "    \n",
    "    # Majority vote \n",
    "    return mode(predictions, keepdims=False).mode\n",
    "\n",
    "def predict_random_forest(X, models, feature_sets):\n",
    "    return np.array([predict_random_forest_one(x, models, feature_sets) for x in X])"
   ]
  },
  {
   "cell_type": "code",
   "execution_count": 5,
   "id": "3941af41-4a2c-4acd-814f-ff5f973969a4",
   "metadata": {},
   "outputs": [
    {
     "name": "stdout",
     "output_type": "stream",
     "text": [
      "Predictions: [0 1 1 0 0 1]\n"
     ]
    }
   ],
   "source": [
    "X = np.array([\n",
    "    [1, 2, 3],\n",
    "    [4, 5, 6],\n",
    "    [7, 8, 9],\n",
    "    [1, 0, 1],\n",
    "    [2, 1, 2],\n",
    "    [3, 3, 3]\n",
    "])\n",
    "y = np.array([0, 1, 1, 0, 0, 1])\n",
    "\n",
    "models, feature_sets = random_forest_classifier(X, y, n_estimators=5)\n",
    "\n",
    "preds = predict_random_forest(X, models, feature_sets)\n",
    "print(\"Predictions:\", preds)"
   ]
  },
  {
   "cell_type": "code",
   "execution_count": 12,
   "id": "0f56a05f-4ed2-4ad6-a4a8-0e3b3c52cc8c",
   "metadata": {},
   "outputs": [],
   "source": [
    "## similarly, random forest regressor"
   ]
  },
  {
   "cell_type": "code",
   "execution_count": 22,
   "id": "da533384-9fbd-4a3e-85fe-265bcbe0f92f",
   "metadata": {},
   "outputs": [],
   "source": [
    "def random_forest_regressor(X, y, n_estimators=10):\n",
    "    models = []\n",
    "    feature_sets = []\n",
    "    n = X.shape[1]\n",
    "    \n",
    "    for _ in range(n_estimators):\n",
    "        f = int(np.sqrt(n))\n",
    "        X_patch, y_patch, feat_idx = random_patches(X, y, size=0.4, features=f)\n",
    "        tree = DecisionTreeRegressor()\n",
    "        tree.fit(X_patch, y_patch)\n",
    "        models.append(tree)\n",
    "        feature_sets.append(feat_idx)\n",
    "    \n",
    "    return models, feature_sets"
   ]
  },
  {
   "cell_type": "code",
   "execution_count": 24,
   "id": "39f53853-09e1-46fe-8d92-cc20ec257c59",
   "metadata": {},
   "outputs": [],
   "source": [
    "def predict_random_forest_regressor_one(x, models, feature_sets):\n",
    "    predictions = []\n",
    "    for tree, feat_idx in zip(models, feature_sets):\n",
    "        x_subset = x[feat_idx].reshape(1, -1)\n",
    "        pred = tree.predict(x_subset)[0]\n",
    "        predictions.append(pred)\n",
    "    return np.mean(predictions)\n",
    "\n",
    "def predict_random_forest_regressor(X, models, feature_sets):\n",
    "    return np.array([predict_random_forest_regressor_one(x, models, feature_sets) for x in X])"
   ]
  },
  {
   "cell_type": "code",
   "execution_count": 26,
   "id": "54b5ed9d-0867-4215-ade0-1a731177163f",
   "metadata": {},
   "outputs": [
    {
     "name": "stdout",
     "output_type": "stream",
     "text": [
      "Predictions: [15. 15. 15. 15.]\n"
     ]
    }
   ],
   "source": [
    "# Sample data\n",
    "X = np.array([[1, 2, 3],\n",
    "              [4, 5, 6],\n",
    "              [7, 8, 9],\n",
    "              [2, 3, 1]])\n",
    "y = np.array([10, 20, 30, 15])\n",
    "\n",
    "models, feature_sets = random_forest_regressor(X, y, n_estimators=2)\n",
    "preds = predict_random_forest_regressor(X, models, feature_sets)\n",
    "print(\"Predictions:\", preds)"
   ]
  },
  {
   "cell_type": "code",
   "execution_count": null,
   "id": "4dbbae6a-1bad-4098-a16e-11d05c120591",
   "metadata": {},
   "outputs": [],
   "source": []
  }
 ],
 "metadata": {
  "kernelspec": {
   "display_name": "Python 3 (ipykernel)",
   "language": "python",
   "name": "python3"
  },
  "language_info": {
   "codemirror_mode": {
    "name": "ipython",
    "version": 3
   },
   "file_extension": ".py",
   "mimetype": "text/x-python",
   "name": "python",
   "nbconvert_exporter": "python",
   "pygments_lexer": "ipython3",
   "version": "3.12.3"
  }
 },
 "nbformat": 4,
 "nbformat_minor": 5
}
