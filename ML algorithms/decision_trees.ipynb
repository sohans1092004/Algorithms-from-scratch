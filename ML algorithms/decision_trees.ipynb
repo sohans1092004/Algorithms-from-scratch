{
 "cells": [
  {
   "cell_type": "code",
   "execution_count": 1,
   "id": "06bd745a-5d4e-4ec1-aafe-eca56e49fae8",
   "metadata": {},
   "outputs": [],
   "source": [
    "import numpy as np\n",
    "\n",
    "def gini_impurity(y):\n",
    "    classes, counts = np.unique(y, return_counts=True)\n",
    "    prob_sq = (counts / len(y)) ** 2\n",
    "    return 1 - np.sum(prob_sq)"
   ]
  },
  {
   "cell_type": "code",
   "execution_count": 2,
   "id": "b75bb7bc-5f86-459e-af7e-a4e40b4b92e6",
   "metadata": {},
   "outputs": [],
   "source": [
    "def generate_thresholds(feature_col):\n",
    "    unique_vals = np.unique(feature_col)\n",
    "    thresholds = (unique_vals[:-1] + unique_vals[1:]) / 2\n",
    "    return thresholds"
   ]
  },
  {
   "cell_type": "code",
   "execution_count": 3,
   "id": "6dac7bcb-7178-47a6-b3fc-17d35fd2bead",
   "metadata": {},
   "outputs": [],
   "source": [
    "def split_data(X, y, feature_idx, threshold):\n",
    "    left_mask = X[:, feature_idx] <= threshold\n",
    "    right_mask = X[:, feature_idx] > threshold\n",
    "    return (X[left_mask], y[left_mask]), (X[right_mask], y[right_mask])"
   ]
  },
  {
   "cell_type": "code",
   "execution_count": 4,
   "id": "671aa8b4-9cf6-459d-ad11-5b6c60ddf9e7",
   "metadata": {},
   "outputs": [],
   "source": [
    "def decision_tree_classifier(X, y, depth=0, max_depth=5, min_samples=2):\n",
    "    # Base cases\n",
    "    if len(y) < min_samples or depth >= max_depth or len(np.unique(y)) == 1:\n",
    "        return {'leaf': True, 'class': np.bincount(y).argmax()}\n",
    "\n",
    "    m, n = X.shape\n",
    "    best_feature = None\n",
    "    best_threshold = None\n",
    "    best_impurity = float('inf')\n",
    "    best_split = None\n",
    "\n",
    "    for feature_idx in range(n):\n",
    "        thresholds = generate_thresholds(X[:, feature_idx])\n",
    "        for threshold in thresholds:\n",
    "            (X_left, y_left), (X_right, y_right) = split_data(X, y, feature_idx, threshold)\n",
    "\n",
    "            if len(y_left) == 0 or len(y_right) == 0:\n",
    "                continue\n",
    "\n",
    "            impurity = (len(y_left) / m) * gini_impurity(y_left) + (len(y_right) / m) * gini_impurity(y_right)\n",
    "\n",
    "            if impurity < best_impurity:\n",
    "                best_impurity = impurity\n",
    "                best_feature = feature_idx\n",
    "                best_threshold = threshold\n",
    "                best_split = ((X_left, y_left), (X_right, y_right))\n",
    "\n",
    "    if best_split is None:\n",
    "        return {'leaf': True, 'class': np.bincount(y).argmax()}\n",
    "\n",
    "    left_tree = decision_tree_classifier(*best_split[0], depth + 1, max_depth, min_samples)\n",
    "    right_tree = decision_tree_classifier(*best_split[1], depth + 1, max_depth, min_samples)\n",
    "\n",
    "    return {\n",
    "        'leaf': False,\n",
    "        'feature': best_feature,\n",
    "        'threshold': best_threshold,\n",
    "        'left': left_tree,\n",
    "        'right': right_tree\n",
    "    }"
   ]
  },
  {
   "cell_type": "code",
   "execution_count": 5,
   "id": "4d7a7e6d-7f2c-4911-a637-5b90482a8587",
   "metadata": {},
   "outputs": [],
   "source": [
    "def predict_single(x, tree):\n",
    "    while not tree['leaf']:\n",
    "        if x[tree['feature']] <= tree['threshold']:\n",
    "            tree = tree['left']\n",
    "        else:\n",
    "            tree = tree['right']\n",
    "    return tree['class']\n",
    "\n",
    "def predict(X, tree):\n",
    "    return np.array([predict_single(x, tree) for x in X])"
   ]
  },
  {
   "cell_type": "code",
   "execution_count": 6,
   "id": "85945f0a-f4c9-40fc-8384-8a3ac9795075",
   "metadata": {},
   "outputs": [
    {
     "name": "stdout",
     "output_type": "stream",
     "text": [
      "Predictions: [0 1 1 0]\n"
     ]
    }
   ],
   "source": [
    "X = np.array([[0, 0],\n",
    "              [0, 1],\n",
    "              [1, 0],\n",
    "              [1, 1]])\n",
    "y = np.array([0, 1, 1, 0])  \n",
    "\n",
    "tree = decision_tree_classifier(X, y, max_depth=2)\n",
    "\n",
    "# Make predictions\n",
    "preds = predict(X, tree)\n",
    "print(\"Predictions:\", preds)"
   ]
  },
  {
   "cell_type": "code",
   "execution_count": 7,
   "id": "98f64701-f29e-40e5-8773-5f63c13ed6a9",
   "metadata": {},
   "outputs": [],
   "source": [
    "## decision tree regressor"
   ]
  },
  {
   "cell_type": "code",
   "execution_count": 8,
   "id": "80246b11-a805-4b4f-84f8-6f39820f9c3b",
   "metadata": {},
   "outputs": [],
   "source": [
    "def mse_impurity(y):\n",
    "    y_mean = np.mean(y)\n",
    "    return np.sum((y - y_mean) ** 2)"
   ]
  },
  {
   "cell_type": "code",
   "execution_count": 9,
   "id": "6bf6d490-7721-4041-8827-201d1df255f4",
   "metadata": {},
   "outputs": [],
   "source": [
    "def generate_thresholds_regressor(feature_column):\n",
    "    unique_vals = np.unique(feature_column)\n",
    "    thresholds = [(unique_vals[i] + unique_vals[i + 1]) / 2 for i in range(len(unique_vals) - 1)]\n",
    "    return thresholds"
   ]
  },
  {
   "cell_type": "code",
   "execution_count": 10,
   "id": "e9dd55df-e5f6-4c6b-8f1d-869b01d58897",
   "metadata": {},
   "outputs": [],
   "source": [
    "def decision_tree_classifier(X, y, depth=0, max_depth=5, min_samples=2):\n",
    "    # Base cases\n",
    "    if len(y) < min_samples or depth >= max_depth:\n",
    "        return {'leaf': True, 'class': np.mean(y)}\n",
    "\n",
    "    m, n = X.shape\n",
    "    best_feature = None\n",
    "    best_threshold = None\n",
    "    best_impurity = float('inf')\n",
    "    best_split = None\n",
    "\n",
    "    for feature_idx in range(n):\n",
    "        thresholds = generate_thresholds_regressor(X[:, feature_idx])\n",
    "        for threshold in thresholds:\n",
    "            (X_left, y_left), (X_right, y_right) = split_data(X, y, feature_idx, threshold)\n",
    "\n",
    "            if len(y_left) == 0 or len(y_right) == 0:\n",
    "                continue\n",
    "\n",
    "            impurity = (len(y_left) / m) * mse_impurity(y_left) + (len(y_right) / m) * mse_impurity(y_right)\n",
    "\n",
    "            if impurity < best_impurity:\n",
    "                best_impurity = impurity\n",
    "                best_feature = feature_idx\n",
    "                best_threshold = threshold\n",
    "                best_split = ((X_left, y_left), (X_right, y_right))\n",
    "\n",
    "    if best_split is None:\n",
    "        return {'leaf': True, 'class': np.mean(y)}\n",
    "\n",
    "    left_tree = decision_tree_classifier(*best_split[0], depth + 1, max_depth, min_samples)\n",
    "    right_tree = decision_tree_classifier(*best_split[1], depth + 1, max_depth, min_samples)\n",
    "\n",
    "    return {\n",
    "        'leaf': False,\n",
    "        'feature': best_feature,\n",
    "        'threshold': best_threshold,\n",
    "        'left': left_tree,\n",
    "        'right': right_tree\n",
    "    }"
   ]
  },
  {
   "cell_type": "code",
   "execution_count": 11,
   "id": "4caaa7e9-d315-4e7f-bd61-8971394a975d",
   "metadata": {},
   "outputs": [],
   "source": [
    "def predict_single(x, tree):\n",
    "    while not tree['leaf']:\n",
    "        if x[tree['feature']] <= tree['threshold']:\n",
    "            tree = tree['left']\n",
    "        else:\n",
    "            tree = tree['right']\n",
    "    return tree['class']\n",
    "\n",
    "def predict(X, tree):\n",
    "    return np.array([predict_single(x, tree) for x in X])"
   ]
  },
  {
   "cell_type": "code",
   "execution_count": 12,
   "id": "568afd3d-3630-4e10-97d8-5709ad7db2b5",
   "metadata": {},
   "outputs": [
    {
     "name": "stdout",
     "output_type": "stream",
     "text": [
      "Predictions: [1.55 1.55 3.   3.9  5.1 ]\n"
     ]
    }
   ],
   "source": [
    "X = np.array([[1], [2], [3], [4], [5]])\n",
    "y = np.array([1.2, 1.9, 3.0, 3.9, 5.1])\n",
    "\n",
    "tree = decision_tree_classifier(X, y, max_depth=2)\n",
    "\n",
    "preds = predict(X, tree)\n",
    "print(\"Predictions:\", preds)"
   ]
  },
  {
   "cell_type": "code",
   "execution_count": null,
   "id": "6af929bf-1bce-4b5d-854d-36339428444f",
   "metadata": {},
   "outputs": [],
   "source": []
  }
 ],
 "metadata": {
  "kernelspec": {
   "display_name": "Python 3 (ipykernel)",
   "language": "python",
   "name": "python3"
  },
  "language_info": {
   "codemirror_mode": {
    "name": "ipython",
    "version": 3
   },
   "file_extension": ".py",
   "mimetype": "text/x-python",
   "name": "python",
   "nbconvert_exporter": "python",
   "pygments_lexer": "ipython3",
   "version": "3.12.3"
  }
 },
 "nbformat": 4,
 "nbformat_minor": 5
}
