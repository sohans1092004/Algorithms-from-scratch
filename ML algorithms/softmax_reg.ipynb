{
 "cells": [
  {
   "cell_type": "code",
   "execution_count": 29,
   "id": "9d6a2dd0-de99-4d5a-9d97-9ad7fe7161ad",
   "metadata": {},
   "outputs": [],
   "source": [
    "import numpy as np\n",
    "\n",
    "def softmax(z):\n",
    "    exp_z = np.exp(z - np.max(z, axis=1, keepdims=True))  # stability trick\n",
    "    return exp_z / np.sum(exp_z, axis=1, keepdims=True)"
   ]
  },
  {
   "cell_type": "code",
   "execution_count": 31,
   "id": "c099effe-49d5-4d18-9f5a-f059a541a34c",
   "metadata": {},
   "outputs": [],
   "source": [
    "def cross_entropy_loss(X, y_onehot, theta):\n",
    "    m = X.shape[0]\n",
    "    z = X @ theta\n",
    "    y_pred = softmax(z)\n",
    "    y_pred = np.clip(y_pred, 1e-15, 1 - 1e-15)\n",
    "    return - (1 / m) * np.sum(y_onehot * np.log(y_pred))"
   ]
  },
  {
   "cell_type": "code",
   "execution_count": 33,
   "id": "524d4b1f-3308-40f0-bdba-b50a1a39355e",
   "metadata": {},
   "outputs": [],
   "source": [
    "def cross_entropy_gradient(X, y_onehot, theta):\n",
    "    m = X.shape[0]\n",
    "    z = X @ theta\n",
    "    y_pred = softmax(z)\n",
    "    return (1 / m) * X.T @ (y_pred - y_onehot)"
   ]
  },
  {
   "cell_type": "code",
   "execution_count": 35,
   "id": "6525034b-4767-445b-8e3d-c0f280621bc9",
   "metadata": {},
   "outputs": [],
   "source": [
    "def one_encoding(y, num_classes=None):\n",
    "    if num_classes is None:\n",
    "        num_classes = np.max(y) + 1\n",
    "    return np.eye(num_classes)[y]"
   ]
  },
  {
   "cell_type": "code",
   "execution_count": 37,
   "id": "e91a2b3b-817c-4cc4-a294-d46cf84f0dc4",
   "metadata": {},
   "outputs": [],
   "source": [
    "def gradient_descent(X, y, lr=1e-2, n_steps=1000):\n",
    "    y_onehot = one_encoding(y)\n",
    "    m, n = X.shape\n",
    "    k = y_onehot.shape[1]\n",
    "    \n",
    "    theta = np.zeros((n, k))\n",
    "\n",
    "    for _ in range(n_steps):\n",
    "        gradients = cross_entropy_gradient(X, y_onehot, theta)\n",
    "        theta -= lr * gradients\n",
    "\n",
    "    return theta"
   ]
  },
  {
   "cell_type": "code",
   "execution_count": 39,
   "id": "833e0d9c-af16-48f7-a6a2-67c736421fd5",
   "metadata": {},
   "outputs": [],
   "source": [
    "def predict(X, theta):\n",
    "    probs = softmax(X @ theta)\n",
    "    return np.argmax(probs, axis=1)"
   ]
  },
  {
   "cell_type": "code",
   "execution_count": 45,
   "id": "543079f3-47cd-4882-84ae-5d95fc9ea649",
   "metadata": {},
   "outputs": [
    {
     "name": "stdout",
     "output_type": "stream",
     "text": [
      "Predictions: [0 1 2 1]\n"
     ]
    }
   ],
   "source": [
    "# Example data\n",
    "X = np.array([\n",
    "    [1.0, 2.0],\n",
    "    [1.0, 3.0],\n",
    "    [1.0, 5.0],\n",
    "    [1.0, 2.5]\n",
    "])\n",
    "y = np.array([0, 1, 2, 1])  # 3 classes\n",
    "\n",
    "# Train model\n",
    "theta = gradient_descent(X, y, lr=0.2)\n",
    "\n",
    "# Predict\n",
    "y_pred = predict(X, theta)\n",
    "print(\"Predictions:\", y_pred)"
   ]
  },
  {
   "cell_type": "code",
   "execution_count": null,
   "id": "308b923b-8e93-440e-a282-c59753d72de8",
   "metadata": {},
   "outputs": [],
   "source": []
  }
 ],
 "metadata": {
  "kernelspec": {
   "display_name": "Python 3 (ipykernel)",
   "language": "python",
   "name": "python3"
  },
  "language_info": {
   "codemirror_mode": {
    "name": "ipython",
    "version": 3
   },
   "file_extension": ".py",
   "mimetype": "text/x-python",
   "name": "python",
   "nbconvert_exporter": "python",
   "pygments_lexer": "ipython3",
   "version": "3.12.3"
  }
 },
 "nbformat": 4,
 "nbformat_minor": 5
}
