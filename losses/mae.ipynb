{
 "cells": [
  {
   "cell_type": "code",
   "execution_count": 11,
   "id": "9cb7fd1f-b909-4f6b-ab69-f3f679335e6f",
   "metadata": {},
   "outputs": [],
   "source": [
    "def mae(y_true, y_pred):\n",
    "    m = len(y_true)\n",
    "\n",
    "    error = 0\n",
    "    for i in range(m):\n",
    "        error += abs(y_true[i] - y_pred[i])\n",
    "\n",
    "    return error / m"
   ]
  },
  {
   "cell_type": "code",
   "execution_count": 13,
   "id": "7473e212-747b-4fa2-844e-f93ccec58bf2",
   "metadata": {},
   "outputs": [
    {
     "name": "stdout",
     "output_type": "stream",
     "text": [
      "0.5\n"
     ]
    }
   ],
   "source": [
    "y_true = [3, -0.5, 2, 7]\n",
    "y_pred = [2.5, 0.0, 2, 8]\n",
    "\n",
    "print(mae(y_true, y_pred))  # Expected output: 0.5"
   ]
  },
  {
   "cell_type": "code",
   "execution_count": 15,
   "id": "241e5ff5-f3d6-4e1e-85bf-657b2ed63c01",
   "metadata": {},
   "outputs": [],
   "source": [
    "def mae_numpy(y_true, y_pred):\n",
    "    return np.mean(np.abs(y_true - y_pred))"
   ]
  },
  {
   "cell_type": "code",
   "execution_count": 17,
   "id": "c8e8507e-ecff-46d9-b26a-460a612100e6",
   "metadata": {},
   "outputs": [
    {
     "name": "stdout",
     "output_type": "stream",
     "text": [
      "0.5\n"
     ]
    }
   ],
   "source": [
    "import numpy as np\n",
    "\n",
    "y_true = np.array([3, -0.5, 2, 7])\n",
    "y_pred = np.array([2.5, 0.0, 2, 8])\n",
    "\n",
    "print(mae_numpy(y_true, y_pred))  # Expected output: 0.5"
   ]
  },
  {
   "cell_type": "code",
   "execution_count": 21,
   "id": "0e4c11b1-3377-453b-a201-f0a773d78165",
   "metadata": {},
   "outputs": [
    {
     "data": {
      "text/plain": [
       "0.5"
      ]
     },
     "execution_count": 21,
     "metadata": {},
     "output_type": "execute_result"
    }
   ],
   "source": [
    "from sklearn.metrics import mean_absolute_error\n",
    "\n",
    "mean_absolute_error(y_true, y_pred)"
   ]
  },
  {
   "cell_type": "code",
   "execution_count": null,
   "id": "bbef40cc-718f-4045-9f3e-d6e94bde43fe",
   "metadata": {},
   "outputs": [],
   "source": []
  }
 ],
 "metadata": {
  "kernelspec": {
   "display_name": "Python 3 (ipykernel)",
   "language": "python",
   "name": "python3"
  },
  "language_info": {
   "codemirror_mode": {
    "name": "ipython",
    "version": 3
   },
   "file_extension": ".py",
   "mimetype": "text/x-python",
   "name": "python",
   "nbconvert_exporter": "python",
   "pygments_lexer": "ipython3",
   "version": "3.12.3"
  }
 },
 "nbformat": 4,
 "nbformat_minor": 5
}
