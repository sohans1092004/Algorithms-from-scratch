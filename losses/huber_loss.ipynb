{
 "cells": [
  {
   "cell_type": "code",
   "execution_count": 1,
   "id": "46efdcca-6b05-4f18-930d-93bf79c3f280",
   "metadata": {},
   "outputs": [],
   "source": [
    "import numpy as np\n",
    "\n",
    "def huber_loss(y_true, y_pred, threshold):\n",
    "    error = np.abs(y_true - y_pred)\n",
    "    \n",
    "    quadratic = np.minimum(error, threshold)\n",
    "    linear = error - quadratic\n",
    "    \n",
    "    return np.mean(0.5 * quadratic ** 2 + threshold * linear)"
   ]
  },
  {
   "cell_type": "code",
   "execution_count": 3,
   "id": "d72fa7c9-d7c4-4f4f-bbf3-ccd842351136",
   "metadata": {},
   "outputs": [
    {
     "name": "stdout",
     "output_type": "stream",
     "text": [
      "Huber Loss: 0.15875\n"
     ]
    }
   ],
   "source": [
    "y_true = np.array([1.0, 2.0, 3.0, 4.0])\n",
    "y_pred = np.array([0.9, 2.1, 2.5, 5.0])\n",
    "threshold = 1.0\n",
    "\n",
    "print(\"Huber Loss:\", huber_loss(y_true, y_pred, threshold))"
   ]
  },
  {
   "cell_type": "code",
   "execution_count": null,
   "id": "a68810d1-6cdf-4fe1-a122-fde151b94eb3",
   "metadata": {},
   "outputs": [],
   "source": []
  }
 ],
 "metadata": {
  "kernelspec": {
   "display_name": "Python 3 (ipykernel)",
   "language": "python",
   "name": "python3"
  },
  "language_info": {
   "codemirror_mode": {
    "name": "ipython",
    "version": 3
   },
   "file_extension": ".py",
   "mimetype": "text/x-python",
   "name": "python",
   "nbconvert_exporter": "python",
   "pygments_lexer": "ipython3",
   "version": "3.12.3"
  }
 },
 "nbformat": 4,
 "nbformat_minor": 5
}
