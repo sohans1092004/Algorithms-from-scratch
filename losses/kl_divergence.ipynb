{
 "cells": [
  {
   "cell_type": "code",
   "execution_count": 1,
   "id": "f4fa055e-d1fc-438c-94ea-248fcf1753eb",
   "metadata": {},
   "outputs": [],
   "source": [
    "import numpy as np\n",
    "\n",
    "def kl_divergence(p, q):\n",
    "    p = np.asarray(p, dtype=np.float64)\n",
    "    q = np.asarray(q, dtype=np.float64)\n",
    "\n",
    "    # Avoid division by zero or log(0)\n",
    "    mask = (p != 0) & (q != 0)\n",
    "\n",
    "    dkl = np.sum(p[mask] * np.log(p[mask] / q[mask]))\n",
    "    return dkl"
   ]
  },
  {
   "cell_type": "code",
   "execution_count": 3,
   "id": "9b736abb-8f40-4bb3-a2a5-bda85ade189d",
   "metadata": {},
   "outputs": [
    {
     "name": "stdout",
     "output_type": "stream",
     "text": [
      "0.16232893587760377\n"
     ]
    }
   ],
   "source": [
    "p = np.array([0.5, 0.4, 0.1])\n",
    "q = np.array([0.33, 0.33, 0.34])\n",
    "\n",
    "print(kl_divergence(p, q))  "
   ]
  },
  {
   "cell_type": "code",
   "execution_count": null,
   "id": "a6af26a7-a563-4696-b87b-dd25e397f925",
   "metadata": {},
   "outputs": [],
   "source": []
  }
 ],
 "metadata": {
  "kernelspec": {
   "display_name": "Python 3 (ipykernel)",
   "language": "python",
   "name": "python3"
  },
  "language_info": {
   "codemirror_mode": {
    "name": "ipython",
    "version": 3
   },
   "file_extension": ".py",
   "mimetype": "text/x-python",
   "name": "python",
   "nbconvert_exporter": "python",
   "pygments_lexer": "ipython3",
   "version": "3.12.3"
  }
 },
 "nbformat": 4,
 "nbformat_minor": 5
}
