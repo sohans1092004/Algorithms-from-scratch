{
 "cells": [
  {
   "cell_type": "code",
   "execution_count": 1,
   "id": "7a5ca1a6-44fc-428d-af3f-08b0384bb55c",
   "metadata": {},
   "outputs": [],
   "source": [
    "import numpy as np\n",
    "\n",
    "def binary_cross_entropy(y_true, y_pred):\n",
    "    m = y_true.shape[0]\n",
    "\n",
    "    # Avoid log(0) by clipping predictions\n",
    "    y_pred = np.clip(y_pred, 1e-15, 1 - 1e-15)\n",
    "\n",
    "    error = 0\n",
    "    for i in range(m):\n",
    "        if y_true[i] == 0:\n",
    "            error += np.log(1 - y_pred[i])\n",
    "        else:\n",
    "            error += np.log(y_pred[i])\n",
    "\n",
    "    return (-1 / m) * error"
   ]
  },
  {
   "cell_type": "code",
   "execution_count": 3,
   "id": "56196ca6-d1b9-4887-a08f-ccf0d3debd75",
   "metadata": {},
   "outputs": [
    {
     "name": "stdout",
     "output_type": "stream",
     "text": [
      "0.19763488164214868\n"
     ]
    }
   ],
   "source": [
    "y_true = np.array([1, 0, 1, 1])\n",
    "y_pred = np.array([0.9, 0.1, 0.8, 0.7])\n",
    "\n",
    "print(binary_cross_entropy(y_true, y_pred))  # Output: scalar loss"
   ]
  },
  {
   "cell_type": "code",
   "execution_count": null,
   "id": "8c70b17e-df12-4640-a1ac-3651d9041870",
   "metadata": {},
   "outputs": [],
   "source": []
  }
 ],
 "metadata": {
  "kernelspec": {
   "display_name": "Python 3 (ipykernel)",
   "language": "python",
   "name": "python3"
  },
  "language_info": {
   "codemirror_mode": {
    "name": "ipython",
    "version": 3
   },
   "file_extension": ".py",
   "mimetype": "text/x-python",
   "name": "python",
   "nbconvert_exporter": "python",
   "pygments_lexer": "ipython3",
   "version": "3.12.3"
  }
 },
 "nbformat": 4,
 "nbformat_minor": 5
}
