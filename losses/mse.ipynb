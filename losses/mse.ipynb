{
 "cells": [
  {
   "cell_type": "code",
   "execution_count": 1,
   "id": "35ee3f62-6999-4e5c-8921-bf39b67e34d5",
   "metadata": {},
   "outputs": [],
   "source": [
    "def mse(y_true, y_pred):\n",
    "    m = len(y_true)\n",
    "\n",
    "    error = 0\n",
    "    for i in range(m):\n",
    "        error += (y_true[i] - y_pred[i]) ** 2\n",
    "        \n",
    "    return error / m"
   ]
  },
  {
   "cell_type": "code",
   "execution_count": 2,
   "id": "8764d5bc-3ba8-4309-a1c9-cb0ff437fbfa",
   "metadata": {},
   "outputs": [
    {
     "name": "stdout",
     "output_type": "stream",
     "text": [
      "0.375\n"
     ]
    }
   ],
   "source": [
    "y_true = [3, -0.5, 2, 7]\n",
    "y_pred = [2.5, 0.0, 2, 8]\n",
    "\n",
    "print(mse(y_true, y_pred))  # Expected output: 0.375"
   ]
  },
  {
   "cell_type": "code",
   "execution_count": 3,
   "id": "02be215e-9163-44f6-869d-fe1e1f1a2a8c",
   "metadata": {},
   "outputs": [
    {
     "name": "stdout",
     "output_type": "stream",
     "text": [
      "0.6123724356957945\n"
     ]
    }
   ],
   "source": [
    "import math\n",
    "\n",
    "def rmse(y_true, y_pred):\n",
    "    mse_error = mse(y_true, y_pred)\n",
    "    return math.sqrt(mse_error)\n",
    "\n",
    "print(rmse(y_true, y_pred))"
   ]
  },
  {
   "cell_type": "code",
   "execution_count": 4,
   "id": "e1393df8-608c-45c8-9dd8-8fb221afe617",
   "metadata": {},
   "outputs": [],
   "source": [
    "import numpy as np\n",
    "\n",
    "def mse_numpy(y_true, y_pred):\n",
    "    return np.mean((y_true - y_pred) ** 2)"
   ]
  },
  {
   "cell_type": "code",
   "execution_count": 5,
   "id": "5ca2f8eb-b720-4844-8cc9-70323d53bc69",
   "metadata": {},
   "outputs": [
    {
     "name": "stdout",
     "output_type": "stream",
     "text": [
      "0.375\n"
     ]
    }
   ],
   "source": [
    "y_true = np.array([3, -0.5, 2, 7])\n",
    "y_pred = np.array([2.5, 0.0, 2, 8])\n",
    "\n",
    "print(mse_numpy(y_true, y_pred))  # Expected output: 0.375"
   ]
  },
  {
   "cell_type": "code",
   "execution_count": 6,
   "id": "8fd322a8-f06c-45dc-924d-811c582eb15f",
   "metadata": {},
   "outputs": [
    {
     "name": "stdout",
     "output_type": "stream",
     "text": [
      "0.6123724356957945\n"
     ]
    }
   ],
   "source": [
    "def rmse_numpy(y_true, y_pred):\n",
    "    mse_error = mse_numpy(y_true, y_pred)\n",
    "    return np.sqrt(mse_error)\n",
    "\n",
    "print(rmse_numpy(y_true, y_pred))"
   ]
  },
  {
   "cell_type": "code",
   "execution_count": 7,
   "id": "12d07e88-ab88-4a08-9b79-04a270119678",
   "metadata": {},
   "outputs": [
    {
     "data": {
      "text/plain": [
       "0.375"
      ]
     },
     "execution_count": 7,
     "metadata": {},
     "output_type": "execute_result"
    }
   ],
   "source": [
    "from sklearn.metrics import mean_squared_error\n",
    "\n",
    "mean_squared_error(y_true, y_pred)"
   ]
  },
  {
   "cell_type": "code",
   "execution_count": 8,
   "id": "17887eb3-382a-4e79-bc0a-e2529155dfc8",
   "metadata": {},
   "outputs": [
    {
     "data": {
      "text/plain": [
       "0.6123724356957945"
      ]
     },
     "execution_count": 8,
     "metadata": {},
     "output_type": "execute_result"
    }
   ],
   "source": [
    "from sklearn.metrics import root_mean_squared_error\n",
    "\n",
    "root_mean_squared_error(y_true, y_pred)"
   ]
  },
  {
   "cell_type": "code",
   "execution_count": null,
   "id": "22b3fba4-7e48-44cd-9d5d-b9358790aba3",
   "metadata": {},
   "outputs": [],
   "source": []
  }
 ],
 "metadata": {
  "kernelspec": {
   "display_name": "Python 3 (ipykernel)",
   "language": "python",
   "name": "python3"
  },
  "language_info": {
   "codemirror_mode": {
    "name": "ipython",
    "version": 3
   },
   "file_extension": ".py",
   "mimetype": "text/x-python",
   "name": "python",
   "nbconvert_exporter": "python",
   "pygments_lexer": "ipython3",
   "version": "3.12.3"
  }
 },
 "nbformat": 4,
 "nbformat_minor": 5
}
